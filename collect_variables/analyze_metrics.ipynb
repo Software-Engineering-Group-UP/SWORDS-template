{
 "cells": [
  {
   "cell_type": "markdown",
   "metadata": {},
   "source": [
    "# Analysis of FAIR metrics\n",
    "\n",
    "In this notebook, the retrieved results of the FAIR metrics collection is analyzed."
   ]
  },
  {
   "cell_type": "code",
   "execution_count": 1,
   "metadata": {},
   "outputs": [],
   "source": [
    "from datetime import date\n",
    "import statistics\n",
    "from collections import Counter\n",
    "from pathlib import Path\n",
    "import os\n",
    "\n",
    "import pandas as pd\n",
    "from sklearn.linear_model import LinearRegression\n",
    "from sklearn.metrics import mean_squared_error, r2_score\n",
    "from pandas.plotting import table \n",
    "import matplotlib.pyplot as plt\n",
    "import matplotlib.table as table\n",
    "import seaborn as sns\n",
    "from scipy import stats"
   ]
  },
  {
   "cell_type": "code",
   "execution_count": 2,
   "metadata": {},
   "outputs": [],
   "source": [
    "plt.rcParams['figure.figsize'] = [12, 8]\n",
    "plt.rcParams.update({'font.size': 22})"
   ]
  },
  {
   "cell_type": "markdown",
   "metadata": {},
   "source": [
    "Folders and constants"
   ]
  },
  {
   "cell_type": "code",
   "execution_count": 3,
   "metadata": {},
   "outputs": [
    {
     "ename": "FileNotFoundError",
     "evalue": "[Errno 2] No such file or directory: 'results/languages.csv'",
     "output_type": "error",
     "traceback": [
      "\u001b[0;31m---------------------------------------------------------------------------\u001b[0m",
      "\u001b[0;31mFileNotFoundError\u001b[0m                         Traceback (most recent call last)",
      "Cell \u001b[0;32mIn[3], line 7\u001b[0m\n\u001b[1;32m      5\u001b[0m \u001b[38;5;66;03m# todo make this into something nice\u001b[39;00m\n\u001b[1;32m      6\u001b[0m how_fair_is \u001b[38;5;241m=\u001b[39m pd\u001b[38;5;241m.\u001b[39mread_csv(\u001b[38;5;124m\"\u001b[39m\u001b[38;5;124mresults/repositories_howfairis.csv\u001b[39m\u001b[38;5;124m\"\u001b[39m)\n\u001b[0;32m----> 7\u001b[0m languages \u001b[38;5;241m=\u001b[39m pd\u001b[38;5;241m.\u001b[39mread_csv(\u001b[38;5;124m\"\u001b[39m\u001b[38;5;124mresults/languages.csv\u001b[39m\u001b[38;5;124m\"\u001b[39m)\n\u001b[1;32m      8\u001b[0m contributors \u001b[38;5;241m=\u001b[39m pd\u001b[38;5;241m.\u001b[39mread_csv(\u001b[38;5;124m\"\u001b[39m\u001b[38;5;124mresults/contributors.csv\u001b[39m\u001b[38;5;124m\"\u001b[39m)\n\u001b[1;32m      9\u001b[0m topics \u001b[38;5;241m=\u001b[39m pd\u001b[38;5;241m.\u001b[39mread_csv(\u001b[38;5;124m\"\u001b[39m\u001b[38;5;124mresults/topics.csv\u001b[39m\u001b[38;5;124m\"\u001b[39m)\n",
      "File \u001b[0;32m~/anaconda3/lib/python3.11/site-packages/pandas/util/_decorators.py:211\u001b[0m, in \u001b[0;36mdeprecate_kwarg.<locals>._deprecate_kwarg.<locals>.wrapper\u001b[0;34m(*args, **kwargs)\u001b[0m\n\u001b[1;32m    209\u001b[0m     \u001b[38;5;28;01melse\u001b[39;00m:\n\u001b[1;32m    210\u001b[0m         kwargs[new_arg_name] \u001b[38;5;241m=\u001b[39m new_arg_value\n\u001b[0;32m--> 211\u001b[0m \u001b[38;5;28;01mreturn\u001b[39;00m func(\u001b[38;5;241m*\u001b[39margs, \u001b[38;5;241m*\u001b[39m\u001b[38;5;241m*\u001b[39mkwargs)\n",
      "File \u001b[0;32m~/anaconda3/lib/python3.11/site-packages/pandas/util/_decorators.py:331\u001b[0m, in \u001b[0;36mdeprecate_nonkeyword_arguments.<locals>.decorate.<locals>.wrapper\u001b[0;34m(*args, **kwargs)\u001b[0m\n\u001b[1;32m    325\u001b[0m \u001b[38;5;28;01mif\u001b[39;00m \u001b[38;5;28mlen\u001b[39m(args) \u001b[38;5;241m>\u001b[39m num_allow_args:\n\u001b[1;32m    326\u001b[0m     warnings\u001b[38;5;241m.\u001b[39mwarn(\n\u001b[1;32m    327\u001b[0m         msg\u001b[38;5;241m.\u001b[39mformat(arguments\u001b[38;5;241m=\u001b[39m_format_argument_list(allow_args)),\n\u001b[1;32m    328\u001b[0m         \u001b[38;5;167;01mFutureWarning\u001b[39;00m,\n\u001b[1;32m    329\u001b[0m         stacklevel\u001b[38;5;241m=\u001b[39mfind_stack_level(),\n\u001b[1;32m    330\u001b[0m     )\n\u001b[0;32m--> 331\u001b[0m \u001b[38;5;28;01mreturn\u001b[39;00m func(\u001b[38;5;241m*\u001b[39margs, \u001b[38;5;241m*\u001b[39m\u001b[38;5;241m*\u001b[39mkwargs)\n",
      "File \u001b[0;32m~/anaconda3/lib/python3.11/site-packages/pandas/io/parsers/readers.py:950\u001b[0m, in \u001b[0;36mread_csv\u001b[0;34m(filepath_or_buffer, sep, delimiter, header, names, index_col, usecols, squeeze, prefix, mangle_dupe_cols, dtype, engine, converters, true_values, false_values, skipinitialspace, skiprows, skipfooter, nrows, na_values, keep_default_na, na_filter, verbose, skip_blank_lines, parse_dates, infer_datetime_format, keep_date_col, date_parser, dayfirst, cache_dates, iterator, chunksize, compression, thousands, decimal, lineterminator, quotechar, quoting, doublequote, escapechar, comment, encoding, encoding_errors, dialect, error_bad_lines, warn_bad_lines, on_bad_lines, delim_whitespace, low_memory, memory_map, float_precision, storage_options)\u001b[0m\n\u001b[1;32m    935\u001b[0m kwds_defaults \u001b[38;5;241m=\u001b[39m _refine_defaults_read(\n\u001b[1;32m    936\u001b[0m     dialect,\n\u001b[1;32m    937\u001b[0m     delimiter,\n\u001b[0;32m   (...)\u001b[0m\n\u001b[1;32m    946\u001b[0m     defaults\u001b[38;5;241m=\u001b[39m{\u001b[38;5;124m\"\u001b[39m\u001b[38;5;124mdelimiter\u001b[39m\u001b[38;5;124m\"\u001b[39m: \u001b[38;5;124m\"\u001b[39m\u001b[38;5;124m,\u001b[39m\u001b[38;5;124m\"\u001b[39m},\n\u001b[1;32m    947\u001b[0m )\n\u001b[1;32m    948\u001b[0m kwds\u001b[38;5;241m.\u001b[39mupdate(kwds_defaults)\n\u001b[0;32m--> 950\u001b[0m \u001b[38;5;28;01mreturn\u001b[39;00m _read(filepath_or_buffer, kwds)\n",
      "File \u001b[0;32m~/anaconda3/lib/python3.11/site-packages/pandas/io/parsers/readers.py:605\u001b[0m, in \u001b[0;36m_read\u001b[0;34m(filepath_or_buffer, kwds)\u001b[0m\n\u001b[1;32m    602\u001b[0m _validate_names(kwds\u001b[38;5;241m.\u001b[39mget(\u001b[38;5;124m\"\u001b[39m\u001b[38;5;124mnames\u001b[39m\u001b[38;5;124m\"\u001b[39m, \u001b[38;5;28;01mNone\u001b[39;00m))\n\u001b[1;32m    604\u001b[0m \u001b[38;5;66;03m# Create the parser.\u001b[39;00m\n\u001b[0;32m--> 605\u001b[0m parser \u001b[38;5;241m=\u001b[39m TextFileReader(filepath_or_buffer, \u001b[38;5;241m*\u001b[39m\u001b[38;5;241m*\u001b[39mkwds)\n\u001b[1;32m    607\u001b[0m \u001b[38;5;28;01mif\u001b[39;00m chunksize \u001b[38;5;129;01mor\u001b[39;00m iterator:\n\u001b[1;32m    608\u001b[0m     \u001b[38;5;28;01mreturn\u001b[39;00m parser\n",
      "File \u001b[0;32m~/anaconda3/lib/python3.11/site-packages/pandas/io/parsers/readers.py:1442\u001b[0m, in \u001b[0;36mTextFileReader.__init__\u001b[0;34m(self, f, engine, **kwds)\u001b[0m\n\u001b[1;32m   1439\u001b[0m     \u001b[38;5;28mself\u001b[39m\u001b[38;5;241m.\u001b[39moptions[\u001b[38;5;124m\"\u001b[39m\u001b[38;5;124mhas_index_names\u001b[39m\u001b[38;5;124m\"\u001b[39m] \u001b[38;5;241m=\u001b[39m kwds[\u001b[38;5;124m\"\u001b[39m\u001b[38;5;124mhas_index_names\u001b[39m\u001b[38;5;124m\"\u001b[39m]\n\u001b[1;32m   1441\u001b[0m \u001b[38;5;28mself\u001b[39m\u001b[38;5;241m.\u001b[39mhandles: IOHandles \u001b[38;5;241m|\u001b[39m \u001b[38;5;28;01mNone\u001b[39;00m \u001b[38;5;241m=\u001b[39m \u001b[38;5;28;01mNone\u001b[39;00m\n\u001b[0;32m-> 1442\u001b[0m \u001b[38;5;28mself\u001b[39m\u001b[38;5;241m.\u001b[39m_engine \u001b[38;5;241m=\u001b[39m \u001b[38;5;28mself\u001b[39m\u001b[38;5;241m.\u001b[39m_make_engine(f, \u001b[38;5;28mself\u001b[39m\u001b[38;5;241m.\u001b[39mengine)\n",
      "File \u001b[0;32m~/anaconda3/lib/python3.11/site-packages/pandas/io/parsers/readers.py:1735\u001b[0m, in \u001b[0;36mTextFileReader._make_engine\u001b[0;34m(self, f, engine)\u001b[0m\n\u001b[1;32m   1733\u001b[0m     \u001b[38;5;28;01mif\u001b[39;00m \u001b[38;5;124m\"\u001b[39m\u001b[38;5;124mb\u001b[39m\u001b[38;5;124m\"\u001b[39m \u001b[38;5;129;01mnot\u001b[39;00m \u001b[38;5;129;01min\u001b[39;00m mode:\n\u001b[1;32m   1734\u001b[0m         mode \u001b[38;5;241m+\u001b[39m\u001b[38;5;241m=\u001b[39m \u001b[38;5;124m\"\u001b[39m\u001b[38;5;124mb\u001b[39m\u001b[38;5;124m\"\u001b[39m\n\u001b[0;32m-> 1735\u001b[0m \u001b[38;5;28mself\u001b[39m\u001b[38;5;241m.\u001b[39mhandles \u001b[38;5;241m=\u001b[39m get_handle(\n\u001b[1;32m   1736\u001b[0m     f,\n\u001b[1;32m   1737\u001b[0m     mode,\n\u001b[1;32m   1738\u001b[0m     encoding\u001b[38;5;241m=\u001b[39m\u001b[38;5;28mself\u001b[39m\u001b[38;5;241m.\u001b[39moptions\u001b[38;5;241m.\u001b[39mget(\u001b[38;5;124m\"\u001b[39m\u001b[38;5;124mencoding\u001b[39m\u001b[38;5;124m\"\u001b[39m, \u001b[38;5;28;01mNone\u001b[39;00m),\n\u001b[1;32m   1739\u001b[0m     compression\u001b[38;5;241m=\u001b[39m\u001b[38;5;28mself\u001b[39m\u001b[38;5;241m.\u001b[39moptions\u001b[38;5;241m.\u001b[39mget(\u001b[38;5;124m\"\u001b[39m\u001b[38;5;124mcompression\u001b[39m\u001b[38;5;124m\"\u001b[39m, \u001b[38;5;28;01mNone\u001b[39;00m),\n\u001b[1;32m   1740\u001b[0m     memory_map\u001b[38;5;241m=\u001b[39m\u001b[38;5;28mself\u001b[39m\u001b[38;5;241m.\u001b[39moptions\u001b[38;5;241m.\u001b[39mget(\u001b[38;5;124m\"\u001b[39m\u001b[38;5;124mmemory_map\u001b[39m\u001b[38;5;124m\"\u001b[39m, \u001b[38;5;28;01mFalse\u001b[39;00m),\n\u001b[1;32m   1741\u001b[0m     is_text\u001b[38;5;241m=\u001b[39mis_text,\n\u001b[1;32m   1742\u001b[0m     errors\u001b[38;5;241m=\u001b[39m\u001b[38;5;28mself\u001b[39m\u001b[38;5;241m.\u001b[39moptions\u001b[38;5;241m.\u001b[39mget(\u001b[38;5;124m\"\u001b[39m\u001b[38;5;124mencoding_errors\u001b[39m\u001b[38;5;124m\"\u001b[39m, \u001b[38;5;124m\"\u001b[39m\u001b[38;5;124mstrict\u001b[39m\u001b[38;5;124m\"\u001b[39m),\n\u001b[1;32m   1743\u001b[0m     storage_options\u001b[38;5;241m=\u001b[39m\u001b[38;5;28mself\u001b[39m\u001b[38;5;241m.\u001b[39moptions\u001b[38;5;241m.\u001b[39mget(\u001b[38;5;124m\"\u001b[39m\u001b[38;5;124mstorage_options\u001b[39m\u001b[38;5;124m\"\u001b[39m, \u001b[38;5;28;01mNone\u001b[39;00m),\n\u001b[1;32m   1744\u001b[0m )\n\u001b[1;32m   1745\u001b[0m \u001b[38;5;28;01massert\u001b[39;00m \u001b[38;5;28mself\u001b[39m\u001b[38;5;241m.\u001b[39mhandles \u001b[38;5;129;01mis\u001b[39;00m \u001b[38;5;129;01mnot\u001b[39;00m \u001b[38;5;28;01mNone\u001b[39;00m\n\u001b[1;32m   1746\u001b[0m f \u001b[38;5;241m=\u001b[39m \u001b[38;5;28mself\u001b[39m\u001b[38;5;241m.\u001b[39mhandles\u001b[38;5;241m.\u001b[39mhandle\n",
      "File \u001b[0;32m~/anaconda3/lib/python3.11/site-packages/pandas/io/common.py:856\u001b[0m, in \u001b[0;36mget_handle\u001b[0;34m(path_or_buf, mode, encoding, compression, memory_map, is_text, errors, storage_options)\u001b[0m\n\u001b[1;32m    851\u001b[0m \u001b[38;5;28;01melif\u001b[39;00m \u001b[38;5;28misinstance\u001b[39m(handle, \u001b[38;5;28mstr\u001b[39m):\n\u001b[1;32m    852\u001b[0m     \u001b[38;5;66;03m# Check whether the filename is to be opened in binary mode.\u001b[39;00m\n\u001b[1;32m    853\u001b[0m     \u001b[38;5;66;03m# Binary mode does not support 'encoding' and 'newline'.\u001b[39;00m\n\u001b[1;32m    854\u001b[0m     \u001b[38;5;28;01mif\u001b[39;00m ioargs\u001b[38;5;241m.\u001b[39mencoding \u001b[38;5;129;01mand\u001b[39;00m \u001b[38;5;124m\"\u001b[39m\u001b[38;5;124mb\u001b[39m\u001b[38;5;124m\"\u001b[39m \u001b[38;5;129;01mnot\u001b[39;00m \u001b[38;5;129;01min\u001b[39;00m ioargs\u001b[38;5;241m.\u001b[39mmode:\n\u001b[1;32m    855\u001b[0m         \u001b[38;5;66;03m# Encoding\u001b[39;00m\n\u001b[0;32m--> 856\u001b[0m         handle \u001b[38;5;241m=\u001b[39m \u001b[38;5;28mopen\u001b[39m(\n\u001b[1;32m    857\u001b[0m             handle,\n\u001b[1;32m    858\u001b[0m             ioargs\u001b[38;5;241m.\u001b[39mmode,\n\u001b[1;32m    859\u001b[0m             encoding\u001b[38;5;241m=\u001b[39mioargs\u001b[38;5;241m.\u001b[39mencoding,\n\u001b[1;32m    860\u001b[0m             errors\u001b[38;5;241m=\u001b[39merrors,\n\u001b[1;32m    861\u001b[0m             newline\u001b[38;5;241m=\u001b[39m\u001b[38;5;124m\"\u001b[39m\u001b[38;5;124m\"\u001b[39m,\n\u001b[1;32m    862\u001b[0m         )\n\u001b[1;32m    863\u001b[0m     \u001b[38;5;28;01melse\u001b[39;00m:\n\u001b[1;32m    864\u001b[0m         \u001b[38;5;66;03m# Binary mode\u001b[39;00m\n\u001b[1;32m    865\u001b[0m         handle \u001b[38;5;241m=\u001b[39m \u001b[38;5;28mopen\u001b[39m(handle, ioargs\u001b[38;5;241m.\u001b[39mmode)\n",
      "\u001b[0;31mFileNotFoundError\u001b[0m: [Errno 2] No such file or directory: 'results/languages.csv'"
     ]
    }
   ],
   "source": [
    "# subset variable is used to run the notebook for all users, only individual \n",
    "# accounts or organisations (group)\n",
    "subset = \"all\"  # \"user\", \"group\", \"all\"\n",
    "\n",
    "# todo make this into something nice\n",
    "how_fair_is = pd.read_csv(\"results/repositories_howfairis.csv\")\n",
    "languages = pd.read_csv(\"results/languages.csv\")\n",
    "contributors = pd.read_csv(\"results/contributors.csv\")\n",
    "topics = pd.read_csv(\"results/topics.csv\")\n",
    "installations = pd.read_csv(\"results/download_stats.csv\")\n",
    "\n",
    "\n",
    "# file paths\n",
    "fp_repos = Path(\"..\", \"collect_repositories\", \"results\", \"repositories_filtered.csv\")\n",
    "fp_figs = Path(\"figs\")\n",
    "\n",
    "# create output folder if not exists\n",
    "fp_figs.mkdir(exist_ok=True)"
   ]
  },
  {
   "cell_type": "code",
   "execution_count": null,
   "metadata": {},
   "outputs": [],
   "source": [
    "subset"
   ]
  },
  {
   "cell_type": "markdown",
   "metadata": {},
   "source": [
    "## Load filtered repositories\n",
    "Load (manually) filtered repositories into notebook."
   ]
  },
  {
   "cell_type": "code",
   "execution_count": null,
   "metadata": {},
   "outputs": [],
   "source": [
    "repos = pd.read_csv(fp_repos)"
   ]
  },
  {
   "cell_type": "markdown",
   "metadata": {},
   "source": [
    "## Filtering for research groups or private users only"
   ]
  },
  {
   "cell_type": "code",
   "execution_count": null,
   "metadata": {},
   "outputs": [],
   "source": [
    "users = pd.read_excel(\"../collect_users/results/users_enriched.xlsx\")"
   ]
  },
  {
   "cell_type": "code",
   "execution_count": null,
   "metadata": {},
   "outputs": [],
   "source": [
    "def add_research_group_filter(dataset):\n",
    "    user_is_research_group = []\n",
    "    for row in dataset.iterrows():\n",
    "        try:\n",
    "            owner = row[1]['owner']\n",
    "        except:\n",
    "            owner = row[1]['html_url_repository'].split('/')[-2]\n",
    "            \n",
    "            \n",
    "      \n",
    "        row_users = users.loc[users['user_id'] == owner]\n",
    "        if len(row_users['is_research_group']) == 0:\n",
    "            user_is_research_group.append(False)\n",
    "        for i in row_users['is_research_group']:\n",
    "            if i == 1:\n",
    "                user_is_research_group.append(True)\n",
    "                break\n",
    "            else:\n",
    "                user_is_research_group.append(False)\n",
    "                break\n",
    "                    \n",
    "    return user_is_research_group\n",
    "    "
   ]
  },
  {
   "cell_type": "code",
   "execution_count": null,
   "metadata": {},
   "outputs": [],
   "source": [
    "repos['is_research_group'] = add_research_group_filter(repos)\n",
    "contributors['is_research_group'] = add_research_group_filter(contributors)\n",
    "topics['is_research_group'] = add_research_group_filter(topics)\n",
    "languages['is_research_group'] = add_research_group_filter(languages)\n",
    "how_fair_is['is_research_group'] = add_research_group_filter(how_fair_is)"
   ]
  },
  {
   "cell_type": "markdown",
   "metadata": {},
   "source": [
    "## Subset repositories\n",
    "Make a subset of repositories on \"user\", \"group\", or \"all\".\n",
    "\n",
    "- \"user\" - Account of individual researcher\n",
    "- \"group\" - Account of research group\n",
    "- \"all\" - Both individual researcher or research group"
   ]
  },
  {
   "cell_type": "code",
   "execution_count": null,
   "metadata": {},
   "outputs": [],
   "source": [
    "if subset == \"user\":\n",
    "    repos = repos[~repos['is_research_group']]\n",
    "    contributors = contributors[~contributors['is_research_group']]\n",
    "    topics = topics[~topics['is_research_group']]\n",
    "    languages = languages[~languages['is_research_group']]\n",
    "    how_fair_is = how_fair_is[~how_fair_is['is_research_group']]\n",
    "elif subset == \"group\":\n",
    "    repos = repos[repos['is_research_group']]\n",
    "    contributors = contributors[contributors['is_research_group']]\n",
    "    topics = topics[topics['is_research_group']]\n",
    "    languages = languages[languages['is_research_group']]\n",
    "    how_fair_is = how_fair_is[how_fair_is['is_research_group']]"
   ]
  },
  {
   "cell_type": "markdown",
   "metadata": {},
   "source": [
    "## Datasets"
   ]
  },
  {
   "cell_type": "markdown",
   "metadata": {},
   "source": [
    "Using the github API and the Howfairis software, we collected data on the repositories, their FAIRness, the languages used in the repository, the amount of contributors for each repository and the topics mentoined in each repository. \n",
    "\n",
    "The Howfairis software gives  boolean value on five measures of FAIRness for each repository. These five measures consist of having a repository (which is always True for our dataset), having a license, being available in a registry, allowing citation of the software and following the FAIR software quality checklist. Below, the first five rows of the datasets are displayed. "
   ]
  },
  {
   "cell_type": "code",
   "execution_count": null,
   "metadata": {},
   "outputs": [],
   "source": [
    "repos"
   ]
  },
  {
   "cell_type": "code",
   "execution_count": 4,
   "metadata": {},
   "outputs": [
    {
     "data": {
      "text/html": [
       "<div>\n",
       "<style scoped>\n",
       "    .dataframe tbody tr th:only-of-type {\n",
       "        vertical-align: middle;\n",
       "    }\n",
       "\n",
       "    .dataframe tbody tr th {\n",
       "        vertical-align: top;\n",
       "    }\n",
       "\n",
       "    .dataframe thead th {\n",
       "        text-align: right;\n",
       "    }\n",
       "</style>\n",
       "<table border=\"1\" class=\"dataframe\">\n",
       "  <thead>\n",
       "    <tr style=\"text-align: right;\">\n",
       "      <th></th>\n",
       "      <th>id</th>\n",
       "      <th>node_id</th>\n",
       "      <th>name</th>\n",
       "      <th>full_name</th>\n",
       "      <th>private</th>\n",
       "      <th>owner</th>\n",
       "      <th>html_url</th>\n",
       "      <th>description</th>\n",
       "      <th>fork</th>\n",
       "      <th>url</th>\n",
       "      <th>...</th>\n",
       "      <th>open_issues</th>\n",
       "      <th>watchers</th>\n",
       "      <th>default_branch</th>\n",
       "      <th>permissions</th>\n",
       "      <th>date</th>\n",
       "      <th>howfairis_repository</th>\n",
       "      <th>howfairis_license</th>\n",
       "      <th>howfairis_registry</th>\n",
       "      <th>howfairis_citation</th>\n",
       "      <th>howfairis_checklist</th>\n",
       "    </tr>\n",
       "  </thead>\n",
       "  <tbody>\n",
       "    <tr>\n",
       "      <th>0</th>\n",
       "      <td>401148255</td>\n",
       "      <td>MDEwOlJlcG9zaXRvcnk0MDExNDgyNTU=</td>\n",
       "      <td>CIObund</td>\n",
       "      <td>030jmk/CIObund</td>\n",
       "      <td>False</td>\n",
       "      <td>030jmk</td>\n",
       "      <td>https://github.com/030jmk/CIObund</td>\n",
       "      <td>AR Bund</td>\n",
       "      <td>False</td>\n",
       "      <td>https://api.github.com/repos/030jmk/CIObund</td>\n",
       "      <td>...</td>\n",
       "      <td>0</td>\n",
       "      <td>0</td>\n",
       "      <td>master</td>\n",
       "      <td>NaN</td>\n",
       "      <td>2023-09-07</td>\n",
       "      <td>True</td>\n",
       "      <td>False</td>\n",
       "      <td>False</td>\n",
       "      <td>False</td>\n",
       "      <td>False</td>\n",
       "    </tr>\n",
       "    <tr>\n",
       "      <th>1</th>\n",
       "      <td>670803112</td>\n",
       "      <td>R_kgDOJ_ukqA</td>\n",
       "      <td>genAI-telephone</td>\n",
       "      <td>030jmk/genAI-telephone</td>\n",
       "      <td>False</td>\n",
       "      <td>030jmk</td>\n",
       "      <td>https://github.com/030jmk/genAI-telephone</td>\n",
       "      <td>A retrofitted rotary dial phone with speech-to...</td>\n",
       "      <td>False</td>\n",
       "      <td>https://api.github.com/repos/030jmk/genAI-tele...</td>\n",
       "      <td>...</td>\n",
       "      <td>0</td>\n",
       "      <td>0</td>\n",
       "      <td>main</td>\n",
       "      <td>NaN</td>\n",
       "      <td>2023-09-07</td>\n",
       "      <td>True</td>\n",
       "      <td>False</td>\n",
       "      <td>False</td>\n",
       "      <td>False</td>\n",
       "      <td>False</td>\n",
       "    </tr>\n",
       "    <tr>\n",
       "      <th>2</th>\n",
       "      <td>129522481</td>\n",
       "      <td>MDEwOlJlcG9zaXRvcnkxMjk1MjI0ODE=</td>\n",
       "      <td>gntm</td>\n",
       "      <td>030jmk/gntm</td>\n",
       "      <td>False</td>\n",
       "      <td>030jmk</td>\n",
       "      <td>https://github.com/030jmk/gntm</td>\n",
       "      <td>scraped Instagram follower count for GNTM cont...</td>\n",
       "      <td>False</td>\n",
       "      <td>https://api.github.com/repos/030jmk/gntm</td>\n",
       "      <td>...</td>\n",
       "      <td>0</td>\n",
       "      <td>0</td>\n",
       "      <td>master</td>\n",
       "      <td>NaN</td>\n",
       "      <td>2023-09-07</td>\n",
       "      <td>True</td>\n",
       "      <td>False</td>\n",
       "      <td>False</td>\n",
       "      <td>False</td>\n",
       "      <td>False</td>\n",
       "    </tr>\n",
       "    <tr>\n",
       "      <th>3</th>\n",
       "      <td>167386672</td>\n",
       "      <td>MDEwOlJlcG9zaXRvcnkxNjczODY2NzI=</td>\n",
       "      <td>gntm2019</td>\n",
       "      <td>030jmk/gntm2019</td>\n",
       "      <td>False</td>\n",
       "      <td>030jmk</td>\n",
       "      <td>https://github.com/030jmk/gntm2019</td>\n",
       "      <td>gntm 2019</td>\n",
       "      <td>False</td>\n",
       "      <td>https://api.github.com/repos/030jmk/gntm2019</td>\n",
       "      <td>...</td>\n",
       "      <td>0</td>\n",
       "      <td>0</td>\n",
       "      <td>master</td>\n",
       "      <td>NaN</td>\n",
       "      <td>2023-09-07</td>\n",
       "      <td>True</td>\n",
       "      <td>False</td>\n",
       "      <td>False</td>\n",
       "      <td>False</td>\n",
       "      <td>False</td>\n",
       "    </tr>\n",
       "    <tr>\n",
       "      <th>4</th>\n",
       "      <td>420233451</td>\n",
       "      <td>R_kgDOGQxA6w</td>\n",
       "      <td>publicAmenitiesBerlin</td>\n",
       "      <td>030jmk/publicAmenitiesBerlin</td>\n",
       "      <td>False</td>\n",
       "      <td>030jmk</td>\n",
       "      <td>https://github.com/030jmk/publicAmenitiesBerlin</td>\n",
       "      <td>Telegram Bot to find the closest public amenit...</td>\n",
       "      <td>False</td>\n",
       "      <td>https://api.github.com/repos/030jmk/publicAmen...</td>\n",
       "      <td>...</td>\n",
       "      <td>0</td>\n",
       "      <td>0</td>\n",
       "      <td>main</td>\n",
       "      <td>NaN</td>\n",
       "      <td>2023-09-07</td>\n",
       "      <td>True</td>\n",
       "      <td>True</td>\n",
       "      <td>False</td>\n",
       "      <td>False</td>\n",
       "      <td>False</td>\n",
       "    </tr>\n",
       "    <tr>\n",
       "      <th>...</th>\n",
       "      <td>...</td>\n",
       "      <td>...</td>\n",
       "      <td>...</td>\n",
       "      <td>...</td>\n",
       "      <td>...</td>\n",
       "      <td>...</td>\n",
       "      <td>...</td>\n",
       "      <td>...</td>\n",
       "      <td>...</td>\n",
       "      <td>...</td>\n",
       "      <td>...</td>\n",
       "      <td>...</td>\n",
       "      <td>...</td>\n",
       "      <td>...</td>\n",
       "      <td>...</td>\n",
       "      <td>...</td>\n",
       "      <td>...</td>\n",
       "      <td>...</td>\n",
       "      <td>...</td>\n",
       "      <td>...</td>\n",
       "      <td>...</td>\n",
       "    </tr>\n",
       "    <tr>\n",
       "      <th>1955</th>\n",
       "      <td>335660934</td>\n",
       "      <td>MDEwOlJlcG9zaXRvcnkzMzU2NjA5MzQ=</td>\n",
       "      <td>e-lexicography-2021-WiSe</td>\n",
       "      <td>zentrum-lexikographie/e-lexicography-2021-WiSe</td>\n",
       "      <td>False</td>\n",
       "      <td>zentrum-lexikographie</td>\n",
       "      <td>https://github.com/zentrum-lexikographie/e-lex...</td>\n",
       "      <td>Wintersemester 2020/21</td>\n",
       "      <td>False</td>\n",
       "      <td>https://api.github.com/repos/zentrum-lexikogra...</td>\n",
       "      <td>...</td>\n",
       "      <td>0</td>\n",
       "      <td>1</td>\n",
       "      <td>main</td>\n",
       "      <td>NaN</td>\n",
       "      <td>2023-09-07</td>\n",
       "      <td>True</td>\n",
       "      <td>False</td>\n",
       "      <td>False</td>\n",
       "      <td>False</td>\n",
       "      <td>False</td>\n",
       "    </tr>\n",
       "    <tr>\n",
       "      <th>1956</th>\n",
       "      <td>601543443</td>\n",
       "      <td>R_kgDOI9rTEw</td>\n",
       "      <td>elexicography-WiSe2023</td>\n",
       "      <td>zentrum-lexikographie/elexicography-WiSe2023</td>\n",
       "      <td>False</td>\n",
       "      <td>zentrum-lexikographie</td>\n",
       "      <td>https://github.com/zentrum-lexikographie/elexi...</td>\n",
       "      <td>Course materials for the compact course in dig...</td>\n",
       "      <td>False</td>\n",
       "      <td>https://api.github.com/repos/zentrum-lexikogra...</td>\n",
       "      <td>...</td>\n",
       "      <td>3</td>\n",
       "      <td>0</td>\n",
       "      <td>main</td>\n",
       "      <td>NaN</td>\n",
       "      <td>2023-09-07</td>\n",
       "      <td>True</td>\n",
       "      <td>False</td>\n",
       "      <td>False</td>\n",
       "      <td>False</td>\n",
       "      <td>False</td>\n",
       "    </tr>\n",
       "    <tr>\n",
       "      <th>1957</th>\n",
       "      <td>491164984</td>\n",
       "      <td>R_kgDOHUaVOA</td>\n",
       "      <td>eval-de-lemma</td>\n",
       "      <td>zentrum-lexikographie/eval-de-lemma</td>\n",
       "      <td>False</td>\n",
       "      <td>zentrum-lexikographie</td>\n",
       "      <td>https://github.com/zentrum-lexikographie/eval-...</td>\n",
       "      <td>NaN</td>\n",
       "      <td>False</td>\n",
       "      <td>https://api.github.com/repos/zentrum-lexikogra...</td>\n",
       "      <td>...</td>\n",
       "      <td>0</td>\n",
       "      <td>0</td>\n",
       "      <td>main</td>\n",
       "      <td>NaN</td>\n",
       "      <td>2023-09-07</td>\n",
       "      <td>True</td>\n",
       "      <td>True</td>\n",
       "      <td>False</td>\n",
       "      <td>True</td>\n",
       "      <td>False</td>\n",
       "    </tr>\n",
       "    <tr>\n",
       "      <th>1958</th>\n",
       "      <td>164424340</td>\n",
       "      <td>MDEwOlJlcG9zaXRvcnkxNjQ0MjQzNDA=</td>\n",
       "      <td>ttml2tei</td>\n",
       "      <td>zentrum-lexikographie/ttml2tei</td>\n",
       "      <td>False</td>\n",
       "      <td>zentrum-lexikographie</td>\n",
       "      <td>https://github.com/zentrum-lexikographie/ttml2tei</td>\n",
       "      <td>Convert ttml to tei xml format</td>\n",
       "      <td>False</td>\n",
       "      <td>https://api.github.com/repos/zentrum-lexikogra...</td>\n",
       "      <td>...</td>\n",
       "      <td>1</td>\n",
       "      <td>1</td>\n",
       "      <td>master</td>\n",
       "      <td>NaN</td>\n",
       "      <td>2023-09-07</td>\n",
       "      <td>True</td>\n",
       "      <td>True</td>\n",
       "      <td>False</td>\n",
       "      <td>False</td>\n",
       "      <td>False</td>\n",
       "    </tr>\n",
       "    <tr>\n",
       "      <th>1959</th>\n",
       "      <td>551544549</td>\n",
       "      <td>R_kgDOIN_m5Q</td>\n",
       "      <td>wikimedia</td>\n",
       "      <td>zentrum-lexikographie/wikimedia</td>\n",
       "      <td>False</td>\n",
       "      <td>zentrum-lexikographie</td>\n",
       "      <td>https://github.com/zentrum-lexikographie/wikim...</td>\n",
       "      <td>Data Exchange Routines between the ZDL and Wik...</td>\n",
       "      <td>False</td>\n",
       "      <td>https://api.github.com/repos/zentrum-lexikogra...</td>\n",
       "      <td>...</td>\n",
       "      <td>0</td>\n",
       "      <td>4</td>\n",
       "      <td>master</td>\n",
       "      <td>NaN</td>\n",
       "      <td>2023-09-07</td>\n",
       "      <td>True</td>\n",
       "      <td>True</td>\n",
       "      <td>False</td>\n",
       "      <td>False</td>\n",
       "      <td>False</td>\n",
       "    </tr>\n",
       "  </tbody>\n",
       "</table>\n",
       "<p>1960 rows × 86 columns</p>\n",
       "</div>"
      ],
      "text/plain": [
       "             id                           node_id                      name  \\\n",
       "0     401148255  MDEwOlJlcG9zaXRvcnk0MDExNDgyNTU=                   CIObund   \n",
       "1     670803112                      R_kgDOJ_ukqA           genAI-telephone   \n",
       "2     129522481  MDEwOlJlcG9zaXRvcnkxMjk1MjI0ODE=                      gntm   \n",
       "3     167386672  MDEwOlJlcG9zaXRvcnkxNjczODY2NzI=                  gntm2019   \n",
       "4     420233451                      R_kgDOGQxA6w     publicAmenitiesBerlin   \n",
       "...         ...                               ...                       ...   \n",
       "1955  335660934  MDEwOlJlcG9zaXRvcnkzMzU2NjA5MzQ=  e-lexicography-2021-WiSe   \n",
       "1956  601543443                      R_kgDOI9rTEw    elexicography-WiSe2023   \n",
       "1957  491164984                      R_kgDOHUaVOA             eval-de-lemma   \n",
       "1958  164424340  MDEwOlJlcG9zaXRvcnkxNjQ0MjQzNDA=                  ttml2tei   \n",
       "1959  551544549                      R_kgDOIN_m5Q                 wikimedia   \n",
       "\n",
       "                                           full_name  private  \\\n",
       "0                                     030jmk/CIObund    False   \n",
       "1                             030jmk/genAI-telephone    False   \n",
       "2                                        030jmk/gntm    False   \n",
       "3                                    030jmk/gntm2019    False   \n",
       "4                       030jmk/publicAmenitiesBerlin    False   \n",
       "...                                              ...      ...   \n",
       "1955  zentrum-lexikographie/e-lexicography-2021-WiSe    False   \n",
       "1956    zentrum-lexikographie/elexicography-WiSe2023    False   \n",
       "1957             zentrum-lexikographie/eval-de-lemma    False   \n",
       "1958                  zentrum-lexikographie/ttml2tei    False   \n",
       "1959                 zentrum-lexikographie/wikimedia    False   \n",
       "\n",
       "                      owner  \\\n",
       "0                    030jmk   \n",
       "1                    030jmk   \n",
       "2                    030jmk   \n",
       "3                    030jmk   \n",
       "4                    030jmk   \n",
       "...                     ...   \n",
       "1955  zentrum-lexikographie   \n",
       "1956  zentrum-lexikographie   \n",
       "1957  zentrum-lexikographie   \n",
       "1958  zentrum-lexikographie   \n",
       "1959  zentrum-lexikographie   \n",
       "\n",
       "                                               html_url  \\\n",
       "0                     https://github.com/030jmk/CIObund   \n",
       "1             https://github.com/030jmk/genAI-telephone   \n",
       "2                        https://github.com/030jmk/gntm   \n",
       "3                    https://github.com/030jmk/gntm2019   \n",
       "4       https://github.com/030jmk/publicAmenitiesBerlin   \n",
       "...                                                 ...   \n",
       "1955  https://github.com/zentrum-lexikographie/e-lex...   \n",
       "1956  https://github.com/zentrum-lexikographie/elexi...   \n",
       "1957  https://github.com/zentrum-lexikographie/eval-...   \n",
       "1958  https://github.com/zentrum-lexikographie/ttml2tei   \n",
       "1959  https://github.com/zentrum-lexikographie/wikim...   \n",
       "\n",
       "                                            description   fork  \\\n",
       "0                                               AR Bund  False   \n",
       "1     A retrofitted rotary dial phone with speech-to...  False   \n",
       "2     scraped Instagram follower count for GNTM cont...  False   \n",
       "3                                             gntm 2019  False   \n",
       "4     Telegram Bot to find the closest public amenit...  False   \n",
       "...                                                 ...    ...   \n",
       "1955                             Wintersemester 2020/21  False   \n",
       "1956  Course materials for the compact course in dig...  False   \n",
       "1957                                                NaN  False   \n",
       "1958                     Convert ttml to tei xml format  False   \n",
       "1959  Data Exchange Routines between the ZDL and Wik...  False   \n",
       "\n",
       "                                                    url  ... open_issues  \\\n",
       "0           https://api.github.com/repos/030jmk/CIObund  ...           0   \n",
       "1     https://api.github.com/repos/030jmk/genAI-tele...  ...           0   \n",
       "2              https://api.github.com/repos/030jmk/gntm  ...           0   \n",
       "3          https://api.github.com/repos/030jmk/gntm2019  ...           0   \n",
       "4     https://api.github.com/repos/030jmk/publicAmen...  ...           0   \n",
       "...                                                 ...  ...         ...   \n",
       "1955  https://api.github.com/repos/zentrum-lexikogra...  ...           0   \n",
       "1956  https://api.github.com/repos/zentrum-lexikogra...  ...           3   \n",
       "1957  https://api.github.com/repos/zentrum-lexikogra...  ...           0   \n",
       "1958  https://api.github.com/repos/zentrum-lexikogra...  ...           1   \n",
       "1959  https://api.github.com/repos/zentrum-lexikogra...  ...           0   \n",
       "\n",
       "     watchers default_branch permissions        date howfairis_repository  \\\n",
       "0           0         master         NaN  2023-09-07                 True   \n",
       "1           0           main         NaN  2023-09-07                 True   \n",
       "2           0         master         NaN  2023-09-07                 True   \n",
       "3           0         master         NaN  2023-09-07                 True   \n",
       "4           0           main         NaN  2023-09-07                 True   \n",
       "...       ...            ...         ...         ...                  ...   \n",
       "1955        1           main         NaN  2023-09-07                 True   \n",
       "1956        0           main         NaN  2023-09-07                 True   \n",
       "1957        0           main         NaN  2023-09-07                 True   \n",
       "1958        1         master         NaN  2023-09-07                 True   \n",
       "1959        4         master         NaN  2023-09-07                 True   \n",
       "\n",
       "     howfairis_license howfairis_registry howfairis_citation  \\\n",
       "0                False              False              False   \n",
       "1                False              False              False   \n",
       "2                False              False              False   \n",
       "3                False              False              False   \n",
       "4                 True              False              False   \n",
       "...                ...                ...                ...   \n",
       "1955             False              False              False   \n",
       "1956             False              False              False   \n",
       "1957              True              False               True   \n",
       "1958              True              False              False   \n",
       "1959              True              False              False   \n",
       "\n",
       "     howfairis_checklist  \n",
       "0                  False  \n",
       "1                  False  \n",
       "2                  False  \n",
       "3                  False  \n",
       "4                  False  \n",
       "...                  ...  \n",
       "1955               False  \n",
       "1956               False  \n",
       "1957               False  \n",
       "1958               False  \n",
       "1959               False  \n",
       "\n",
       "[1960 rows x 86 columns]"
      ]
     },
     "execution_count": 4,
     "metadata": {},
     "output_type": "execute_result"
    }
   ],
   "source": [
    "how_fair_is"
   ]
  },
  {
   "cell_type": "code",
   "execution_count": 5,
   "metadata": {},
   "outputs": [
    {
     "ename": "NameError",
     "evalue": "name 'languages' is not defined",
     "output_type": "error",
     "traceback": [
      "\u001b[0;31m---------------------------------------------------------------------------\u001b[0m",
      "\u001b[0;31mNameError\u001b[0m                                 Traceback (most recent call last)",
      "Cell \u001b[0;32mIn[5], line 1\u001b[0m\n\u001b[0;32m----> 1\u001b[0m languages\n",
      "\u001b[0;31mNameError\u001b[0m: name 'languages' is not defined"
     ]
    }
   ],
   "source": [
    "languages"
   ]
  },
  {
   "cell_type": "code",
   "execution_count": 6,
   "metadata": {},
   "outputs": [
    {
     "ename": "NameError",
     "evalue": "name 'contributors' is not defined",
     "output_type": "error",
     "traceback": [
      "\u001b[0;31m---------------------------------------------------------------------------\u001b[0m",
      "\u001b[0;31mNameError\u001b[0m                                 Traceback (most recent call last)",
      "Cell \u001b[0;32mIn[6], line 1\u001b[0m\n\u001b[0;32m----> 1\u001b[0m contributors\n",
      "\u001b[0;31mNameError\u001b[0m: name 'contributors' is not defined"
     ]
    }
   ],
   "source": [
    "contributors"
   ]
  },
  {
   "cell_type": "code",
   "execution_count": 7,
   "metadata": {},
   "outputs": [
    {
     "ename": "NameError",
     "evalue": "name 'topics' is not defined",
     "output_type": "error",
     "traceback": [
      "\u001b[0;31m---------------------------------------------------------------------------\u001b[0m",
      "\u001b[0;31mNameError\u001b[0m                                 Traceback (most recent call last)",
      "Cell \u001b[0;32mIn[7], line 1\u001b[0m\n\u001b[0;32m----> 1\u001b[0m topics\n",
      "\u001b[0;31mNameError\u001b[0m: name 'topics' is not defined"
     ]
    }
   ],
   "source": [
    "topics"
   ]
  },
  {
   "cell_type": "code",
   "execution_count": 8,
   "metadata": {},
   "outputs": [
    {
     "name": "stdout",
     "output_type": "stream",
     "text": [
      "The repository data from Github contains the following columns:\n"
     ]
    },
    {
     "ename": "NameError",
     "evalue": "name 'repos' is not defined",
     "output_type": "error",
     "traceback": [
      "\u001b[0;31m---------------------------------------------------------------------------\u001b[0m",
      "\u001b[0;31mNameError\u001b[0m                                 Traceback (most recent call last)",
      "Cell \u001b[0;32mIn[8], line 2\u001b[0m\n\u001b[1;32m      1\u001b[0m \u001b[38;5;28mprint\u001b[39m(\u001b[38;5;124m\"\u001b[39m\u001b[38;5;124mThe repository data from Github contains the following columns:\u001b[39m\u001b[38;5;124m\"\u001b[39m)\n\u001b[0;32m----> 2\u001b[0m \u001b[38;5;28mprint\u001b[39m(repos\u001b[38;5;241m.\u001b[39mcolumns)\n",
      "\u001b[0;31mNameError\u001b[0m: name 'repos' is not defined"
     ]
    }
   ],
   "source": [
    "print(\"The repository data from Github contains the following columns:\")\n",
    "print(repos.columns)"
   ]
  },
  {
   "cell_type": "markdown",
   "metadata": {},
   "source": [
    "## Sofware licenses \n",
    "\n",
    "A license is important because it shows that people have permission to use and modify your code. The plots below show the licenses used in the collection. \n"
   ]
  },
  {
   "cell_type": "code",
   "execution_count": 9,
   "metadata": {},
   "outputs": [],
   "source": [
    "# short names for licenses\n",
    "licenses_abbr = {\n",
    "    'MIT License': 'MIT',\n",
    "    'GNU General Public License v3.0': 'GPLv3',\n",
    "    'Other': 'Other',\n",
    "    'Apache License 2.0': 'Apache 2.0',\n",
    "    'GNU General Public License v2.0': 'GPLv2',\n",
    "    'BSD 3-Clause \"New\" or \"Revised\" License': 'BSD 3-Clause',\n",
    "    'Creative Commons Attribution 4.0 International': 'CC-BY',\n",
    "    'Creative Commons Zero v1.0 Universal': 'CC0',\n",
    "    'GNU Lesser General Public License v3.0': 'LGPLv3',\n",
    "    'The Unlicense': 'Unlicense',\n",
    "    'GNU Affero General Public License v3.0': 'AGPPLv3',\n",
    "    'BSD 2-Clause \"Simplified\" License': 'BSD 2-Clause',\n",
    "    'Mozilla Public License 2.0': 'MPL 2.0',\n",
    "    'GNU Lesser General Public License v2.1': 'LGPLv2.1',\n",
    "    'Creative Commons Attribution Share Alike 4.0 International': 'CC-BY-SA',\n",
    "    'ISC License': 'ISC'\n",
    "    \n",
    "}"
   ]
  },
  {
   "cell_type": "code",
   "execution_count": 10,
   "metadata": {},
   "outputs": [],
   "source": [
    "# # all licences\n",
    "# repos[\"license\"].value_counts().plot(kind='bar', title = 'All licences')\n",
    "# plt.savefig(Path(fp_figs, f'licenses_all_{subset}.png'), bbox_inches=\"tight\")\n"
   ]
  },
  {
   "cell_type": "code",
   "execution_count": 11,
   "metadata": {},
   "outputs": [
    {
     "ename": "NameError",
     "evalue": "name 'repos' is not defined",
     "output_type": "error",
     "traceback": [
      "\u001b[0;31m---------------------------------------------------------------------------\u001b[0m",
      "\u001b[0;31mNameError\u001b[0m                                 Traceback (most recent call last)",
      "Cell \u001b[0;32mIn[11], line 2\u001b[0m\n\u001b[1;32m      1\u001b[0m \u001b[38;5;66;03m# top most used 10 licences\u001b[39;00m\n\u001b[0;32m----> 2\u001b[0m top_10_licenses \u001b[38;5;241m=\u001b[39m repos[\u001b[38;5;124m\"\u001b[39m\u001b[38;5;124mlicense\u001b[39m\u001b[38;5;124m\"\u001b[39m]\u001b[38;5;241m.\u001b[39mvalue_counts()\u001b[38;5;241m.\u001b[39mhead(\u001b[38;5;241m10\u001b[39m)\n\u001b[1;32m      3\u001b[0m \u001b[38;5;28mprint\u001b[39m(top_10_licenses)\n",
      "\u001b[0;31mNameError\u001b[0m: name 'repos' is not defined"
     ]
    }
   ],
   "source": [
    "# top most used 10 licences\n",
    "top_10_licenses = repos[\"license\"].value_counts().head(10)\n",
    "print(top_10_licenses)"
   ]
  },
  {
   "cell_type": "code",
   "execution_count": 12,
   "metadata": {},
   "outputs": [
    {
     "ename": "NameError",
     "evalue": "name 'top_10_licenses' is not defined",
     "output_type": "error",
     "traceback": [
      "\u001b[0;31m---------------------------------------------------------------------------\u001b[0m",
      "\u001b[0;31mNameError\u001b[0m                                 Traceback (most recent call last)",
      "Cell \u001b[0;32mIn[12], line 1\u001b[0m\n\u001b[0;32m----> 1\u001b[0m ax \u001b[38;5;241m=\u001b[39m sns\u001b[38;5;241m.\u001b[39mbarplot(top_10_licenses\u001b[38;5;241m.\u001b[39mindex, top_10_licenses)\n\u001b[1;32m      2\u001b[0m ax\u001b[38;5;241m.\u001b[39mset_xticklabels(ax\u001b[38;5;241m.\u001b[39mget_xticklabels(),rotation \u001b[38;5;241m=\u001b[39m \u001b[38;5;241m90\u001b[39m)\n\u001b[1;32m      3\u001b[0m ax\u001b[38;5;241m.\u001b[39mset_ylabel(\u001b[38;5;124m\"\u001b[39m\u001b[38;5;124mCount\u001b[39m\u001b[38;5;124m\"\u001b[39m)\n",
      "\u001b[0;31mNameError\u001b[0m: name 'top_10_licenses' is not defined"
     ]
    }
   ],
   "source": [
    "ax = sns.barplot(top_10_licenses.index, top_10_licenses)\n",
    "ax.set_xticklabels(ax.get_xticklabels(),rotation = 90)\n",
    "ax.set_ylabel(\"Count\")\n",
    "ax.set_title(\"Top 10 most popular licenses\")\n",
    "\n",
    "plt.savefig(Path(fp_figs, f'licenses_first10_{subset}.png'), bbox_inches=\"tight\")"
   ]
  },
  {
   "cell_type": "code",
   "execution_count": 13,
   "metadata": {
    "scrolled": false
   },
   "outputs": [
    {
     "ename": "NameError",
     "evalue": "name 'repos' is not defined",
     "output_type": "error",
     "traceback": [
      "\u001b[0;31m---------------------------------------------------------------------------\u001b[0m",
      "\u001b[0;31mNameError\u001b[0m                                 Traceback (most recent call last)",
      "Cell \u001b[0;32mIn[13], line 1\u001b[0m\n\u001b[0;32m----> 1\u001b[0m top_10_licenses_short \u001b[38;5;241m=\u001b[39m repos[\u001b[38;5;124m\"\u001b[39m\u001b[38;5;124mlicense\u001b[39m\u001b[38;5;124m\"\u001b[39m]\u001b[38;5;241m.\u001b[39mreplace(licenses_abbr)\u001b[38;5;241m.\u001b[39mvalue_counts()\u001b[38;5;241m.\u001b[39mhead(\u001b[38;5;241m10\u001b[39m)\n\u001b[1;32m      2\u001b[0m \u001b[38;5;28mprint\u001b[39m(top_10_licenses_short)\n\u001b[1;32m      4\u001b[0m \u001b[38;5;66;03m# first 10 licences with short names\u001b[39;00m\n",
      "\u001b[0;31mNameError\u001b[0m: name 'repos' is not defined"
     ]
    }
   ],
   "source": [
    "top_10_licenses_short = repos[\"license\"].replace(licenses_abbr).value_counts().head(10)\n",
    "print(top_10_licenses_short)\n",
    "\n",
    "# first 10 licences with short names\n",
    "ax = sns.barplot(top_10_licenses_short.index, top_10_licenses_short)\n",
    "ax.set_xticklabels(ax.get_xticklabels(),rotation = 90)\n",
    "ax.set_ylabel(\"Count\")\n",
    "ax.set_title(\"Top 10 most popular licenses\")\n",
    "\n",
    "plt.savefig(Path(fp_figs, f'licenses_short_first10_{subset}.png'), bbox_inches=\"tight\")"
   ]
  },
  {
   "cell_type": "code",
   "execution_count": 14,
   "metadata": {},
   "outputs": [
    {
     "ename": "NameError",
     "evalue": "name 'top_10_licenses_short' is not defined",
     "output_type": "error",
     "traceback": [
      "\u001b[0;31m---------------------------------------------------------------------------\u001b[0m",
      "\u001b[0;31mNameError\u001b[0m                                 Traceback (most recent call last)",
      "Cell \u001b[0;32mIn[14], line 2\u001b[0m\n\u001b[1;32m      1\u001b[0m \u001b[38;5;66;03m# first 10 licences with short names\u001b[39;00m\n\u001b[0;32m----> 2\u001b[0m ax \u001b[38;5;241m=\u001b[39m sns\u001b[38;5;241m.\u001b[39mbarplot(top_10_licenses_short\u001b[38;5;241m.\u001b[39mindex, top_10_licenses_short \u001b[38;5;241m/\u001b[39m top_10_licenses_short\u001b[38;5;241m.\u001b[39msum() \u001b[38;5;241m*\u001b[39m \u001b[38;5;241m100\u001b[39m)\n\u001b[1;32m      3\u001b[0m ax\u001b[38;5;241m.\u001b[39mset_xticklabels(ax\u001b[38;5;241m.\u001b[39mget_xticklabels(),rotation \u001b[38;5;241m=\u001b[39m \u001b[38;5;241m90\u001b[39m)\n\u001b[1;32m      4\u001b[0m ax\u001b[38;5;241m.\u001b[39mset_ylabel(\u001b[38;5;124m\"\u001b[39m\u001b[38;5;124mPercentage\u001b[39m\u001b[38;5;124m\"\u001b[39m)\n",
      "\u001b[0;31mNameError\u001b[0m: name 'top_10_licenses_short' is not defined"
     ]
    }
   ],
   "source": [
    "# first 10 licences with short names\n",
    "ax = sns.barplot(top_10_licenses_short.index, top_10_licenses_short / top_10_licenses_short.sum() * 100)\n",
    "ax.set_xticklabels(ax.get_xticklabels(),rotation = 90)\n",
    "ax.set_ylabel(\"Percentage\")\n",
    "ax.set_title(\"Top 10 most popular licenses (in %)\")\n",
    "\n",
    "plt.savefig(Path(fp_figs, f'licenses_short_first10_percentage_{subset}.png'), bbox_inches=\"tight\")"
   ]
  },
  {
   "cell_type": "markdown",
   "metadata": {},
   "source": [
    "Below, the propotion of licenses compared to the total is shown, with their absolute count shown below that. . "
   ]
  },
  {
   "cell_type": "code",
   "execution_count": 15,
   "metadata": {},
   "outputs": [
    {
     "ename": "NameError",
     "evalue": "name 'repos' is not defined",
     "output_type": "error",
     "traceback": [
      "\u001b[0;31m---------------------------------------------------------------------------\u001b[0m",
      "\u001b[0;31mNameError\u001b[0m                                 Traceback (most recent call last)",
      "Cell \u001b[0;32mIn[15], line 1\u001b[0m\n\u001b[0;32m----> 1\u001b[0m percentage_license \u001b[38;5;241m=\u001b[39m \u001b[38;5;28mround\u001b[39m(\u001b[38;5;28mfloat\u001b[39m(repos[\u001b[38;5;124m\"\u001b[39m\u001b[38;5;124mlicense\u001b[39m\u001b[38;5;124m\"\u001b[39m]\u001b[38;5;241m.\u001b[39misna()\u001b[38;5;241m.\u001b[39msum()\u001b[38;5;241m/\u001b[39m\u001b[38;5;28mlen\u001b[39m(repos)\u001b[38;5;241m*\u001b[39m \u001b[38;5;241m100\u001b[39m),\u001b[38;5;241m2\u001b[39m)\n\u001b[1;32m      2\u001b[0m \u001b[38;5;28mprint\u001b[39m(\u001b[38;5;124m\"\u001b[39m\u001b[38;5;132;01m{}\u001b[39;00m\u001b[38;5;124m \u001b[39m\u001b[38;5;132;01m% o\u001b[39;00m\u001b[38;5;124mf repositories have a license on their page\u001b[39m\u001b[38;5;124m\"\u001b[39m\u001b[38;5;241m.\u001b[39mformat(percentage_license))\n",
      "\u001b[0;31mNameError\u001b[0m: name 'repos' is not defined"
     ]
    }
   ],
   "source": [
    "percentage_license = round(float(repos[\"license\"].isna().sum()/len(repos)* 100),2)\n",
    "print(\"{} % of repositories have a license on their page\".format(percentage_license))"
   ]
  },
  {
   "cell_type": "markdown",
   "metadata": {},
   "source": [
    "## Languages\n",
    "\n",
    "The programming language that is used in the repository gives information on the type of project the repository is. data analysis is mostly done in R and Python, though Python is used for other purposes as well. \n",
    "\n",
    "### Jupyter Notebooks\n",
    "\n",
    "Please note that due to the way GitHub calculates the dominant language in a repository, Jupyter Notebooks tend to be the top language if used in a repository. The top language is determined by the number of characters, which is usually much larger in Jupyter Notebook files compared to for example Python scripts."
   ]
  },
  {
   "cell_type": "code",
   "execution_count": 16,
   "metadata": {},
   "outputs": [
    {
     "ename": "NameError",
     "evalue": "name 'repos' is not defined",
     "output_type": "error",
     "traceback": [
      "\u001b[0;31m---------------------------------------------------------------------------\u001b[0m",
      "\u001b[0;31mNameError\u001b[0m                                 Traceback (most recent call last)",
      "Cell \u001b[0;32mIn[16], line 1\u001b[0m\n\u001b[0;32m----> 1\u001b[0m repos[\u001b[38;5;124m\"\u001b[39m\u001b[38;5;124mlanguage\u001b[39m\u001b[38;5;124m\"\u001b[39m]\u001b[38;5;241m.\u001b[39mvalue_counts()\u001b[38;5;241m.\u001b[39mplot\u001b[38;5;241m.\u001b[39mbar(figsize \u001b[38;5;241m=\u001b[39m (\u001b[38;5;241m100\u001b[39m,\u001b[38;5;241m50\u001b[39m), fontsize \u001b[38;5;241m=\u001b[39m \u001b[38;5;241m100\u001b[39m)\n\u001b[1;32m      2\u001b[0m plt\u001b[38;5;241m.\u001b[39mtitle(\u001b[38;5;124m\"\u001b[39m\u001b[38;5;124mProgramming languages by popularity\u001b[39m\u001b[38;5;124m\"\u001b[39m, fontsize \u001b[38;5;241m=\u001b[39m \u001b[38;5;241m100\u001b[39m)\n\u001b[1;32m      3\u001b[0m plt\u001b[38;5;241m.\u001b[39msavefig(Path(fp_figs, \u001b[38;5;124mf\u001b[39m\u001b[38;5;124m'\u001b[39m\u001b[38;5;124mlanguage_\u001b[39m\u001b[38;5;132;01m{\u001b[39;00msubset\u001b[38;5;132;01m}\u001b[39;00m\u001b[38;5;124m.png\u001b[39m\u001b[38;5;124m'\u001b[39m), bbox_inches\u001b[38;5;241m=\u001b[39m\u001b[38;5;124m\"\u001b[39m\u001b[38;5;124mtight\u001b[39m\u001b[38;5;124m\"\u001b[39m)\n",
      "\u001b[0;31mNameError\u001b[0m: name 'repos' is not defined"
     ]
    }
   ],
   "source": [
    "repos[\"language\"].value_counts().plot.bar(figsize = (100,50), fontsize = 100)\n",
    "plt.title(\"Programming languages by popularity\", fontsize = 100)\n",
    "plt.savefig(Path(fp_figs, f'language_{subset}.png'), bbox_inches=\"tight\")"
   ]
  },
  {
   "cell_type": "code",
   "execution_count": 17,
   "metadata": {},
   "outputs": [
    {
     "ename": "NameError",
     "evalue": "name 'repos' is not defined",
     "output_type": "error",
     "traceback": [
      "\u001b[0;31m---------------------------------------------------------------------------\u001b[0m",
      "\u001b[0;31mNameError\u001b[0m                                 Traceback (most recent call last)",
      "Cell \u001b[0;32mIn[17], line 1\u001b[0m\n\u001b[0;32m----> 1\u001b[0m repos[\u001b[38;5;124m\"\u001b[39m\u001b[38;5;124mlanguage\u001b[39m\u001b[38;5;124m\"\u001b[39m]\u001b[38;5;241m.\u001b[39mvalue_counts()\u001b[38;5;241m.\u001b[39mhead(\u001b[38;5;241m20\u001b[39m)\u001b[38;5;241m.\u001b[39mplot\u001b[38;5;241m.\u001b[39mbarh(figsize \u001b[38;5;241m=\u001b[39m (\u001b[38;5;241m50\u001b[39m,\u001b[38;5;241m50\u001b[39m), fontsize \u001b[38;5;241m=\u001b[39m \u001b[38;5;241m100\u001b[39m)\n\u001b[1;32m      2\u001b[0m plt\u001b[38;5;241m.\u001b[39mtitle(\u001b[38;5;124m\"\u001b[39m\u001b[38;5;124mTop 20 Programming languages\u001b[39m\u001b[38;5;124m\"\u001b[39m, fontsize \u001b[38;5;241m=\u001b[39m \u001b[38;5;241m100\u001b[39m)\n\u001b[1;32m      3\u001b[0m plt\u001b[38;5;241m.\u001b[39mgca()\u001b[38;5;241m.\u001b[39minvert_yaxis()\n",
      "\u001b[0;31mNameError\u001b[0m: name 'repos' is not defined"
     ]
    }
   ],
   "source": [
    "repos[\"language\"].value_counts().head(20).plot.barh(figsize = (50,50), fontsize = 100)\n",
    "plt.title(\"Top 20 Programming languages\", fontsize = 100)\n",
    "plt.gca().invert_yaxis()\n",
    "plt.savefig(Path(fp_figs, f'language_top20_{subset}.png'), bbox_inches=\"tight\")"
   ]
  },
  {
   "cell_type": "code",
   "execution_count": 18,
   "metadata": {},
   "outputs": [
    {
     "ename": "NameError",
     "evalue": "name 'repos' is not defined",
     "output_type": "error",
     "traceback": [
      "\u001b[0;31m---------------------------------------------------------------------------\u001b[0m",
      "\u001b[0;31mNameError\u001b[0m                                 Traceback (most recent call last)",
      "Cell \u001b[0;32mIn[18], line 1\u001b[0m\n\u001b[0;32m----> 1\u001b[0m top_10_languages \u001b[38;5;241m=\u001b[39m repos[\u001b[38;5;124m\"\u001b[39m\u001b[38;5;124mlanguage\u001b[39m\u001b[38;5;124m\"\u001b[39m]\u001b[38;5;241m.\u001b[39mvalue_counts()\u001b[38;5;241m.\u001b[39mhead(\u001b[38;5;241m10\u001b[39m)\n\u001b[1;32m      3\u001b[0m ax \u001b[38;5;241m=\u001b[39m sns\u001b[38;5;241m.\u001b[39mbarplot(top_10_languages\u001b[38;5;241m.\u001b[39mindex, top_10_languages \u001b[38;5;241m/\u001b[39m top_10_languages\u001b[38;5;241m.\u001b[39msum() \u001b[38;5;241m*\u001b[39m \u001b[38;5;241m100\u001b[39m)\n\u001b[1;32m      4\u001b[0m ax\u001b[38;5;241m.\u001b[39mset_xticklabels(ax\u001b[38;5;241m.\u001b[39mget_xticklabels(),rotation \u001b[38;5;241m=\u001b[39m \u001b[38;5;241m90\u001b[39m)\n",
      "\u001b[0;31mNameError\u001b[0m: name 'repos' is not defined"
     ]
    }
   ],
   "source": [
    "top_10_languages = repos[\"language\"].value_counts().head(10)\n",
    "\n",
    "ax = sns.barplot(top_10_languages.index, top_10_languages / top_10_languages.sum() * 100)\n",
    "ax.set_xticklabels(ax.get_xticklabels(),rotation = 90)\n",
    "ax.set_ylabel(\"Percentage\")\n",
    "ax.set_title(\"Top 10 most popular languages (in %)\")\n",
    "\n",
    "plt.savefig(Path(fp_figs, f'language_top10_{subset}.png'), bbox_inches=\"tight\")"
   ]
  },
  {
   "cell_type": "code",
   "execution_count": 19,
   "metadata": {},
   "outputs": [
    {
     "ename": "NameError",
     "evalue": "name 'repos' is not defined",
     "output_type": "error",
     "traceback": [
      "\u001b[0;31m---------------------------------------------------------------------------\u001b[0m",
      "\u001b[0;31mNameError\u001b[0m                                 Traceback (most recent call last)",
      "Cell \u001b[0;32mIn[19], line 1\u001b[0m\n\u001b[0;32m----> 1\u001b[0m repo_languages_rel \u001b[38;5;241m=\u001b[39m repos[\u001b[38;5;124m\"\u001b[39m\u001b[38;5;124mlanguage\u001b[39m\u001b[38;5;124m\"\u001b[39m]\u001b[38;5;241m.\u001b[39mvalue_counts()\u001b[38;5;241m.\u001b[39mhead(\u001b[38;5;241m10\u001b[39m) \u001b[38;5;241m/\u001b[39m \u001b[38;5;28mlen\u001b[39m(repos)\n\u001b[1;32m      2\u001b[0m repo_languages_rel\u001b[38;5;241m.\u001b[39mplot\u001b[38;5;241m.\u001b[39mbar(figsize \u001b[38;5;241m=\u001b[39m (\u001b[38;5;241m50\u001b[39m,\u001b[38;5;241m25\u001b[39m), fontsize \u001b[38;5;241m=\u001b[39m \u001b[38;5;241m50\u001b[39m)\n\u001b[1;32m      3\u001b[0m plt\u001b[38;5;241m.\u001b[39mtitle(\u001b[38;5;124m\"\u001b[39m\u001b[38;5;124mTop 10 programming languages (in \u001b[39m\u001b[38;5;124m%\u001b[39m\u001b[38;5;124m)\u001b[39m\u001b[38;5;124m\"\u001b[39m, fontsize \u001b[38;5;241m=\u001b[39m \u001b[38;5;241m50\u001b[39m)\n",
      "\u001b[0;31mNameError\u001b[0m: name 'repos' is not defined"
     ]
    }
   ],
   "source": [
    "repo_languages_rel = repos[\"language\"].value_counts().head(10) / len(repos)\n",
    "repo_languages_rel.plot.bar(figsize = (50,25), fontsize = 50)\n",
    "plt.title(\"Top 10 programming languages (in %)\", fontsize = 50)\n",
    "plt.savefig(Path(fp_figs, f'language_top10_percentage_{subset}.png'), bbox_inches=\"tight\")\n"
   ]
  },
  {
   "cell_type": "markdown",
   "metadata": {},
   "source": [
    "## Relative occurence languages"
   ]
  },
  {
   "cell_type": "code",
   "execution_count": 20,
   "metadata": {},
   "outputs": [
    {
     "ename": "NameError",
     "evalue": "name 'repo_languages_rel' is not defined",
     "output_type": "error",
     "traceback": [
      "\u001b[0;31m---------------------------------------------------------------------------\u001b[0m",
      "\u001b[0;31mNameError\u001b[0m                                 Traceback (most recent call last)",
      "Cell \u001b[0;32mIn[20], line 1\u001b[0m\n\u001b[0;32m----> 1\u001b[0m repo_languages_rel\n",
      "\u001b[0;31mNameError\u001b[0m: name 'repo_languages_rel' is not defined"
     ]
    }
   ],
   "source": [
    "repo_languages_rel"
   ]
  },
  {
   "cell_type": "markdown",
   "metadata": {},
   "source": [
    "## The following percentages represent the percentage of repositories that contains that specific language for the 10 most occuring languages:"
   ]
  },
  {
   "cell_type": "code",
   "execution_count": 21,
   "metadata": {},
   "outputs": [
    {
     "ename": "NameError",
     "evalue": "name 'languages' is not defined",
     "output_type": "error",
     "traceback": [
      "\u001b[0;31m---------------------------------------------------------------------------\u001b[0m",
      "\u001b[0;31mNameError\u001b[0m                                 Traceback (most recent call last)",
      "Cell \u001b[0;32mIn[21], line 1\u001b[0m\n\u001b[0;32m----> 1\u001b[0m \u001b[38;5;28;01mfor\u001b[39;00m value, language \u001b[38;5;129;01min\u001b[39;00m \u001b[38;5;28mzip\u001b[39m(languages[\u001b[38;5;124m\"\u001b[39m\u001b[38;5;124mlanguage\u001b[39m\u001b[38;5;124m\"\u001b[39m]\u001b[38;5;241m.\u001b[39mvalue_counts()\u001b[38;5;241m.\u001b[39mhead(\u001b[38;5;241m10\u001b[39m), languages[\u001b[38;5;124m\"\u001b[39m\u001b[38;5;124mlanguage\u001b[39m\u001b[38;5;124m\"\u001b[39m]\u001b[38;5;241m.\u001b[39mvalue_counts()\u001b[38;5;241m.\u001b[39mhead(\u001b[38;5;241m10\u001b[39m)\u001b[38;5;241m.\u001b[39mkeys()):\n\u001b[1;32m      2\u001b[0m     percentage \u001b[38;5;241m=\u001b[39m value \u001b[38;5;241m/\u001b[39m \u001b[38;5;28mlen\u001b[39m(repos) \u001b[38;5;241m*\u001b[39m \u001b[38;5;241m100\u001b[39m\n\u001b[1;32m      3\u001b[0m     \u001b[38;5;28mprint\u001b[39m(\u001b[38;5;124m\"\u001b[39m\u001b[38;5;132;01m{}\u001b[39;00m\u001b[38;5;124m is present in \u001b[39m\u001b[38;5;132;01m{:.2f}\u001b[39;00m\u001b[38;5;124m \u001b[39m\u001b[38;5;132;01m% o\u001b[39;00m\u001b[38;5;124mf all repositories\u001b[39m\u001b[38;5;124m\"\u001b[39m\u001b[38;5;241m.\u001b[39m \u001b[38;5;28mformat\u001b[39m(language, percentage))\n",
      "\u001b[0;31mNameError\u001b[0m: name 'languages' is not defined"
     ]
    }
   ],
   "source": [
    "for value, language in zip(languages[\"language\"].value_counts().head(10), languages[\"language\"].value_counts().head(10).keys()):\n",
    "    percentage = value / len(repos) * 100\n",
    "    print(\"{} is present in {:.2f} % of all repositories\". format(language, percentage))"
   ]
  },
  {
   "cell_type": "code",
   "execution_count": 22,
   "metadata": {},
   "outputs": [
    {
     "ename": "NameError",
     "evalue": "name 'languages' is not defined",
     "output_type": "error",
     "traceback": [
      "\u001b[0;31m---------------------------------------------------------------------------\u001b[0m",
      "\u001b[0;31mNameError\u001b[0m                                 Traceback (most recent call last)",
      "Cell \u001b[0;32mIn[22], line 1\u001b[0m\n\u001b[0;32m----> 1\u001b[0m languages_rel \u001b[38;5;241m=\u001b[39m languages[\u001b[38;5;124m\"\u001b[39m\u001b[38;5;124mlanguage\u001b[39m\u001b[38;5;124m\"\u001b[39m]\u001b[38;5;241m.\u001b[39mvalue_counts()\u001b[38;5;241m.\u001b[39mhead(\u001b[38;5;241m10\u001b[39m) \u001b[38;5;241m/\u001b[39m \u001b[38;5;28mlen\u001b[39m(repos)\n\u001b[1;32m      2\u001b[0m languages_rel\u001b[38;5;241m.\u001b[39mplot\u001b[38;5;241m.\u001b[39mbar(figsize \u001b[38;5;241m=\u001b[39m (\u001b[38;5;241m50\u001b[39m,\u001b[38;5;241m25\u001b[39m), fontsize \u001b[38;5;241m=\u001b[39m \u001b[38;5;241m50\u001b[39m)\n\u001b[1;32m      3\u001b[0m plt\u001b[38;5;241m.\u001b[39mtitle(\u001b[38;5;124m\"\u001b[39m\u001b[38;5;124mTop 10 occuring programming languages (in \u001b[39m\u001b[38;5;124m%\u001b[39m\u001b[38;5;124m)\u001b[39m\u001b[38;5;124m\"\u001b[39m, fontsize \u001b[38;5;241m=\u001b[39m \u001b[38;5;241m50\u001b[39m)\n",
      "\u001b[0;31mNameError\u001b[0m: name 'languages' is not defined"
     ]
    }
   ],
   "source": [
    "languages_rel = languages[\"language\"].value_counts().head(10) / len(repos)\n",
    "languages_rel.plot.bar(figsize = (50,25), fontsize = 50)\n",
    "plt.title(\"Top 10 occuring programming languages (in %)\", fontsize = 50)\n",
    "plt.savefig(Path(fp_figs, f'occurence_language_top10_percentage_{subset}.png'), bbox_inches=\"tight\")\n"
   ]
  },
  {
   "cell_type": "code",
   "execution_count": 23,
   "metadata": {},
   "outputs": [
    {
     "ename": "NameError",
     "evalue": "name 'languages' is not defined",
     "output_type": "error",
     "traceback": [
      "\u001b[0;31m---------------------------------------------------------------------------\u001b[0m",
      "\u001b[0;31mNameError\u001b[0m                                 Traceback (most recent call last)",
      "Cell \u001b[0;32mIn[23], line 1\u001b[0m\n\u001b[0;32m----> 1\u001b[0m languages[\u001b[38;5;124m\"\u001b[39m\u001b[38;5;124muser\u001b[39m\u001b[38;5;124m\"\u001b[39m] \u001b[38;5;241m=\u001b[39m languages[\u001b[38;5;124m\"\u001b[39m\u001b[38;5;124mhtml_url_repository\u001b[39m\u001b[38;5;124m\"\u001b[39m]\u001b[38;5;241m.\u001b[39mmap(\u001b[38;5;28;01mlambda\u001b[39;00m url: url\u001b[38;5;241m.\u001b[39msplit(\u001b[38;5;124m\"\u001b[39m\u001b[38;5;124m/\u001b[39m\u001b[38;5;124m\"\u001b[39m)[\u001b[38;5;241m3\u001b[39m]) \u001b[38;5;66;03m# extract user from url\u001b[39;00m\n\u001b[1;32m      2\u001b[0m languages[\u001b[38;5;124m\"\u001b[39m\u001b[38;5;124mrepo\u001b[39m\u001b[38;5;124m\"\u001b[39m] \u001b[38;5;241m=\u001b[39m languages[\u001b[38;5;124m\"\u001b[39m\u001b[38;5;124mhtml_url_repository\u001b[39m\u001b[38;5;124m\"\u001b[39m]\u001b[38;5;241m.\u001b[39mmap(\u001b[38;5;28;01mlambda\u001b[39;00m url: url\u001b[38;5;241m.\u001b[39msplit(\u001b[38;5;124m\"\u001b[39m\u001b[38;5;124m/\u001b[39m\u001b[38;5;124m\"\u001b[39m)[\u001b[38;5;241m4\u001b[39m]) \u001b[38;5;66;03m# extract user from url\u001b[39;00m\n\u001b[1;32m      3\u001b[0m unique_users \u001b[38;5;241m=\u001b[39m \u001b[38;5;28mset\u001b[39m(languages[\u001b[38;5;124m\"\u001b[39m\u001b[38;5;124muser\u001b[39m\u001b[38;5;124m\"\u001b[39m])\n",
      "\u001b[0;31mNameError\u001b[0m: name 'languages' is not defined"
     ]
    }
   ],
   "source": [
    "languages[\"user\"] = languages[\"html_url_repository\"].map(lambda url: url.split(\"/\")[3]) # extract user from url\n",
    "languages[\"repo\"] = languages[\"html_url_repository\"].map(lambda url: url.split(\"/\")[4]) # extract user from url\n",
    "unique_users = set(languages[\"user\"])\n",
    "userlang_chars = dict()\n",
    "for user in unique_users:\n",
    "    repos_user = languages.loc[languages['user'] == user]\n",
    "    repos_user_total_chars = sum(repos_user[\"num_chars\"])\n",
    "    for index, row in repos_user.iterrows():\n",
    "        key = row[1] # select language\n",
    "        if key not in userlang_chars:\n",
    "            userlang_chars[key] = row[\"num_chars\"]/repos_user_total_chars\n",
    "        else:\n",
    "            userlang_chars[key] += row[\"num_chars\"]/repos_user_total_chars"
   ]
  },
  {
   "cell_type": "markdown",
   "metadata": {},
   "source": [
    "### The following shows a plot with stacked percentage of language usage of a user\n",
    "#### E.g.: User X has 100 repos written in Python --> Add 1.0 to Python bar. User Y has 1 repo written in R and 1 in C# --> Add 0.5 to R and 0.5 to C#"
   ]
  },
  {
   "cell_type": "code",
   "execution_count": 24,
   "metadata": {},
   "outputs": [
    {
     "ename": "NameError",
     "evalue": "name 'userlang_chars' is not defined",
     "output_type": "error",
     "traceback": [
      "\u001b[0;31m---------------------------------------------------------------------------\u001b[0m",
      "\u001b[0;31mNameError\u001b[0m                                 Traceback (most recent call last)",
      "Cell \u001b[0;32mIn[24], line 1\u001b[0m\n\u001b[0;32m----> 1\u001b[0m userlang_df \u001b[38;5;241m=\u001b[39m pd\u001b[38;5;241m.\u001b[39mDataFrame\u001b[38;5;241m.\u001b[39mfrom_dict(userlang_chars, orient\u001b[38;5;241m=\u001b[39m\u001b[38;5;124m\"\u001b[39m\u001b[38;5;124mindex\u001b[39m\u001b[38;5;124m\"\u001b[39m, columns\u001b[38;5;241m=\u001b[39m[\u001b[38;5;124m'\u001b[39m\u001b[38;5;124mstacked_percentage\u001b[39m\u001b[38;5;124m'\u001b[39m])\n\u001b[1;32m      2\u001b[0m userlang_df\u001b[38;5;241m.\u001b[39mdrop([\u001b[38;5;124m\"\u001b[39m\u001b[38;5;124mHTML\u001b[39m\u001b[38;5;124m\"\u001b[39m, \u001b[38;5;124m\"\u001b[39m\u001b[38;5;124mTeX\u001b[39m\u001b[38;5;124m\"\u001b[39m], inplace \u001b[38;5;241m=\u001b[39m \u001b[38;5;28;01mTrue\u001b[39;00m)\n\u001b[1;32m      3\u001b[0m userlang_df\u001b[38;5;241m.\u001b[39msort_values(by\u001b[38;5;241m=\u001b[39m\u001b[38;5;124m\"\u001b[39m\u001b[38;5;124mstacked_percentage\u001b[39m\u001b[38;5;124m\"\u001b[39m, ascending \u001b[38;5;241m=\u001b[39m \u001b[38;5;28;01mFalse\u001b[39;00m, inplace \u001b[38;5;241m=\u001b[39m \u001b[38;5;28;01mTrue\u001b[39;00m)\n",
      "\u001b[0;31mNameError\u001b[0m: name 'userlang_chars' is not defined"
     ]
    }
   ],
   "source": [
    "userlang_df = pd.DataFrame.from_dict(userlang_chars, orient=\"index\", columns=['stacked_percentage'])\n",
    "userlang_df.drop([\"HTML\", \"TeX\"], inplace = True)\n",
    "userlang_df.sort_values(by=\"stacked_percentage\", ascending = False, inplace = True)\n",
    "userlang_df_top10 = userlang_df.head(10)\n",
    "print(userlang_df_top10)\n",
    "\n",
    "ax = sns.barplot(userlang_df_top10.index, userlang_df_top10[\"stacked_percentage\"] / userlang_df_top10[\"stacked_percentage\"].sum() * 100)\n",
    "ax.set_xticklabels(ax.get_xticklabels(),rotation = 90)\n",
    "ax.set_ylabel(\"Percentage\")\n",
    "ax.set_title(\"Top 10 most popular languages by user (in %)\")\n",
    "\n",
    "plt.savefig(Path(fp_figs, f'most_occuring_languages_stacked_percent_top10_{subset}.png'), bbox_inches=\"tight\")"
   ]
  },
  {
   "cell_type": "markdown",
   "metadata": {},
   "source": [
    "## Correlation table top 10 languages"
   ]
  },
  {
   "cell_type": "code",
   "execution_count": 25,
   "metadata": {},
   "outputs": [
    {
     "ename": "NameError",
     "evalue": "name 'languages' is not defined",
     "output_type": "error",
     "traceback": [
      "\u001b[0;31m---------------------------------------------------------------------------\u001b[0m",
      "\u001b[0;31mNameError\u001b[0m                                 Traceback (most recent call last)",
      "Cell \u001b[0;32mIn[25], line 1\u001b[0m\n\u001b[0;32m----> 1\u001b[0m languages[\u001b[38;5;124m\"\u001b[39m\u001b[38;5;124mlanguage\u001b[39m\u001b[38;5;124m\"\u001b[39m]\u001b[38;5;241m.\u001b[39mvalue_counts()\u001b[38;5;241m.\u001b[39mhead(\u001b[38;5;241m10\u001b[39m)\u001b[38;5;241m.\u001b[39mkeys()\n\u001b[1;32m      2\u001b[0m dict_languages_user \u001b[38;5;241m=\u001b[39m Counter()\n\u001b[1;32m      3\u001b[0m dict_top_languages \u001b[38;5;241m=\u001b[39m \u001b[38;5;28mdict\u001b[39m()\n",
      "\u001b[0;31mNameError\u001b[0m: name 'languages' is not defined"
     ]
    }
   ],
   "source": [
    "languages[\"language\"].value_counts().head(10).keys()\n",
    "dict_languages_user = Counter()\n",
    "dict_top_languages = dict()\n",
    "for language in languages[\"language\"].value_counts().head(10).keys():\n",
    "    dict_top_languages[language] = 0"
   ]
  },
  {
   "cell_type": "code",
   "execution_count": 26,
   "metadata": {},
   "outputs": [],
   "source": [
    "dict_users = {}"
   ]
  },
  {
   "cell_type": "code",
   "execution_count": 27,
   "metadata": {},
   "outputs": [
    {
     "ename": "NameError",
     "evalue": "name 'repos' is not defined",
     "output_type": "error",
     "traceback": [
      "\u001b[0;31m---------------------------------------------------------------------------\u001b[0m",
      "\u001b[0;31mNameError\u001b[0m                                 Traceback (most recent call last)",
      "Cell \u001b[0;32mIn[27], line 1\u001b[0m\n\u001b[0;32m----> 1\u001b[0m \u001b[38;5;28;01mfor\u001b[39;00m html_url \u001b[38;5;129;01min\u001b[39;00m repos[\u001b[38;5;124m'\u001b[39m\u001b[38;5;124mhtml_url\u001b[39m\u001b[38;5;124m'\u001b[39m]: \n\u001b[1;32m      2\u001b[0m     \u001b[38;5;66;03m#print(html_url)\u001b[39;00m\n\u001b[1;32m      3\u001b[0m     rows_language_for_one_user \u001b[38;5;241m=\u001b[39m languages\u001b[38;5;241m.\u001b[39mloc[languages[\u001b[38;5;124m'\u001b[39m\u001b[38;5;124mhtml_url_repository\u001b[39m\u001b[38;5;124m'\u001b[39m] \u001b[38;5;241m==\u001b[39m html_url]\n\u001b[1;32m      4\u001b[0m     dict_languages_user \u001b[38;5;241m=\u001b[39m Counter()\n",
      "\u001b[0;31mNameError\u001b[0m: name 'repos' is not defined"
     ]
    }
   ],
   "source": [
    "\n",
    "for html_url in repos['html_url']: \n",
    "    #print(html_url)\n",
    "    rows_language_for_one_user = languages.loc[languages['html_url_repository'] == html_url]\n",
    "    dict_languages_user = Counter()\n",
    "    for language in languages[\"language\"].value_counts().head(10).keys(): #set all values of languages that need to be present to create a dataset in a later stage to zero\n",
    "        dict_languages_user[language] = 0\n",
    "    for language in rows_language_for_one_user['language']:\n",
    "        if language in dict_languages_user: #only count languages in the top 10\n",
    "            dict_languages_user[language] += 1\n",
    "    dict_users[html_url] = dict_languages_user #each user has a dict with 10 booleans representing whether the top 10 language is present in their repo or not\n"
   ]
  },
  {
   "cell_type": "code",
   "execution_count": 28,
   "metadata": {},
   "outputs": [],
   "source": [
    "languages_per_repo = pd.DataFrame.from_dict(dict_users, orient = 'index')"
   ]
  },
  {
   "cell_type": "code",
   "execution_count": 29,
   "metadata": {},
   "outputs": [
    {
     "data": {
      "text/html": [
       "<div>\n",
       "<style scoped>\n",
       "    .dataframe tbody tr th:only-of-type {\n",
       "        vertical-align: middle;\n",
       "    }\n",
       "\n",
       "    .dataframe tbody tr th {\n",
       "        vertical-align: top;\n",
       "    }\n",
       "\n",
       "    .dataframe thead th {\n",
       "        text-align: right;\n",
       "    }\n",
       "</style>\n",
       "<table border=\"1\" class=\"dataframe\">\n",
       "  <thead>\n",
       "    <tr style=\"text-align: right;\">\n",
       "      <th></th>\n",
       "    </tr>\n",
       "  </thead>\n",
       "  <tbody>\n",
       "  </tbody>\n",
       "</table>\n",
       "</div>"
      ],
      "text/plain": [
       "Empty DataFrame\n",
       "Columns: []\n",
       "Index: []"
      ]
     },
     "execution_count": 29,
     "metadata": {},
     "output_type": "execute_result"
    }
   ],
   "source": [
    "languages_per_repo.corr().round(decimals = 2)"
   ]
  },
  {
   "cell_type": "markdown",
   "metadata": {},
   "source": [
    "## Topics\n",
    "\n",
    "Topics describe the context of the repository. "
   ]
  },
  {
   "cell_type": "code",
   "execution_count": 30,
   "metadata": {},
   "outputs": [
    {
     "ename": "NameError",
     "evalue": "name 'topics' is not defined",
     "output_type": "error",
     "traceback": [
      "\u001b[0;31m---------------------------------------------------------------------------\u001b[0m",
      "\u001b[0;31mNameError\u001b[0m                                 Traceback (most recent call last)",
      "Cell \u001b[0;32mIn[30], line 1\u001b[0m\n\u001b[0;32m----> 1\u001b[0m topics[\u001b[38;5;124m'\u001b[39m\u001b[38;5;124mtopic\u001b[39m\u001b[38;5;124m'\u001b[39m]\u001b[38;5;241m.\u001b[39mvalue_counts()\u001b[38;5;241m.\u001b[39mnlargest(\u001b[38;5;241m50\u001b[39m)\n",
      "\u001b[0;31mNameError\u001b[0m: name 'topics' is not defined"
     ]
    }
   ],
   "source": [
    "topics['topic'].value_counts().nlargest(50)"
   ]
  },
  {
   "cell_type": "code",
   "execution_count": 31,
   "metadata": {},
   "outputs": [
    {
     "ename": "NameError",
     "evalue": "name 'topics' is not defined",
     "output_type": "error",
     "traceback": [
      "\u001b[0;31m---------------------------------------------------------------------------\u001b[0m",
      "\u001b[0;31mNameError\u001b[0m                                 Traceback (most recent call last)",
      "Cell \u001b[0;32mIn[31], line 1\u001b[0m\n\u001b[0;32m----> 1\u001b[0m topics[\u001b[38;5;124m'\u001b[39m\u001b[38;5;124mtopic\u001b[39m\u001b[38;5;124m'\u001b[39m]\u001b[38;5;241m.\u001b[39mvalue_counts()\u001b[38;5;241m.\u001b[39mnlargest(\u001b[38;5;241m10\u001b[39m)\u001b[38;5;241m.\u001b[39mplot(kind \u001b[38;5;241m=\u001b[39m \u001b[38;5;124m'\u001b[39m\u001b[38;5;124mbar\u001b[39m\u001b[38;5;124m'\u001b[39m, title \u001b[38;5;241m=\u001b[39m \u001b[38;5;124m'\u001b[39m\u001b[38;5;124mTop 10 topics\u001b[39m\u001b[38;5;124m'\u001b[39m)\n\u001b[1;32m      2\u001b[0m plt\u001b[38;5;241m.\u001b[39msavefig(Path(fp_figs, \u001b[38;5;124mf\u001b[39m\u001b[38;5;124m'\u001b[39m\u001b[38;5;124mmost_occuring_topics_top10_\u001b[39m\u001b[38;5;132;01m{\u001b[39;00msubset\u001b[38;5;132;01m}\u001b[39;00m\u001b[38;5;124m.png\u001b[39m\u001b[38;5;124m'\u001b[39m), bbox_inches\u001b[38;5;241m=\u001b[39m\u001b[38;5;124m\"\u001b[39m\u001b[38;5;124mtight\u001b[39m\u001b[38;5;124m\"\u001b[39m)\n",
      "\u001b[0;31mNameError\u001b[0m: name 'topics' is not defined"
     ]
    }
   ],
   "source": [
    "topics['topic'].value_counts().nlargest(10).plot(kind = 'bar', title = 'Top 10 topics')\n",
    "plt.savefig(Path(fp_figs, f'most_occuring_topics_top10_{subset}.png'), bbox_inches=\"tight\")\n"
   ]
  },
  {
   "cell_type": "markdown",
   "metadata": {},
   "source": [
    "## Number of  contributors\n",
    "\n",
    "The number of contributors gives information on how many people put effort into the repository. Theoratically, it would make sense if a higher amount of contributors implied a more FAIR repository, because those are easier to find in a registery and work on because of their license. \n"
   ]
  },
  {
   "cell_type": "code",
   "execution_count": 32,
   "metadata": {},
   "outputs": [
    {
     "ename": "NameError",
     "evalue": "name 'contributors' is not defined",
     "output_type": "error",
     "traceback": [
      "\u001b[0;31m---------------------------------------------------------------------------\u001b[0m",
      "\u001b[0;31mNameError\u001b[0m                                 Traceback (most recent call last)",
      "Cell \u001b[0;32mIn[32], line 1\u001b[0m\n\u001b[0;32m----> 1\u001b[0m contributors[\u001b[38;5;124m'\u001b[39m\u001b[38;5;124mhtml_url_repository\u001b[39m\u001b[38;5;124m'\u001b[39m]\u001b[38;5;241m.\u001b[39mvalue_counts()\u001b[38;5;241m.\u001b[39mplot\u001b[38;5;241m.\u001b[39mhist(x \u001b[38;5;241m=\u001b[39m \u001b[38;5;124m'\u001b[39m\u001b[38;5;124mcontributors\u001b[39m\u001b[38;5;124m'\u001b[39m, figsize \u001b[38;5;241m=\u001b[39m (\u001b[38;5;241m10\u001b[39m,\u001b[38;5;241m10\u001b[39m), fontsize \u001b[38;5;241m=\u001b[39m \u001b[38;5;241m12\u001b[39m, title \u001b[38;5;241m=\u001b[39m \u001b[38;5;124m'\u001b[39m\u001b[38;5;124mNumber of contributors\u001b[39m\u001b[38;5;124m'\u001b[39m)\n\u001b[1;32m      2\u001b[0m plt\u001b[38;5;241m.\u001b[39msavefig(Path(fp_figs, \u001b[38;5;124mf\u001b[39m\u001b[38;5;124m'\u001b[39m\u001b[38;5;124mcontributors_\u001b[39m\u001b[38;5;132;01m{\u001b[39;00msubset\u001b[38;5;132;01m}\u001b[39;00m\u001b[38;5;124m.png\u001b[39m\u001b[38;5;124m'\u001b[39m), bbox_inches\u001b[38;5;241m=\u001b[39m\u001b[38;5;124m\"\u001b[39m\u001b[38;5;124mtight\u001b[39m\u001b[38;5;124m\"\u001b[39m)\n",
      "\u001b[0;31mNameError\u001b[0m: name 'contributors' is not defined"
     ]
    }
   ],
   "source": [
    "contributors['html_url_repository'].value_counts().plot.hist(x = 'contributors', figsize = (10,10), fontsize = 12, title = 'Number of contributors')\n",
    "plt.savefig(Path(fp_figs, f'contributors_{subset}.png'), bbox_inches=\"tight\")\n"
   ]
  },
  {
   "cell_type": "code",
   "execution_count": 33,
   "metadata": {},
   "outputs": [
    {
     "ename": "NameError",
     "evalue": "name 'contributors' is not defined",
     "output_type": "error",
     "traceback": [
      "\u001b[0;31m---------------------------------------------------------------------------\u001b[0m",
      "\u001b[0;31mNameError\u001b[0m                                 Traceback (most recent call last)",
      "Cell \u001b[0;32mIn[33], line 1\u001b[0m\n\u001b[0;32m----> 1\u001b[0m contributors[\u001b[38;5;124m'\u001b[39m\u001b[38;5;124mhtml_url_repository\u001b[39m\u001b[38;5;124m'\u001b[39m]\u001b[38;5;241m.\u001b[39mvalue_counts()\u001b[38;5;241m.\u001b[39mnlargest(\u001b[38;5;241m20\u001b[39m, keep \u001b[38;5;241m=\u001b[39m \u001b[38;5;124m'\u001b[39m\u001b[38;5;124mall\u001b[39m\u001b[38;5;124m'\u001b[39m)\n",
      "\u001b[0;31mNameError\u001b[0m: name 'contributors' is not defined"
     ]
    }
   ],
   "source": [
    "contributors['html_url_repository'].value_counts().nlargest(20, keep = 'all')\n"
   ]
  },
  {
   "cell_type": "code",
   "execution_count": 34,
   "metadata": {},
   "outputs": [
    {
     "ename": "NameError",
     "evalue": "name 'contributors' is not defined",
     "output_type": "error",
     "traceback": [
      "\u001b[0;31m---------------------------------------------------------------------------\u001b[0m",
      "\u001b[0;31mNameError\u001b[0m                                 Traceback (most recent call last)",
      "Cell \u001b[0;32mIn[34], line 1\u001b[0m\n\u001b[0;32m----> 1\u001b[0m \u001b[38;5;28mprint\u001b[39m(\u001b[38;5;124m'\u001b[39m\u001b[38;5;124mmean contributors: \u001b[39m\u001b[38;5;132;01m{:.2f}\u001b[39;00m\u001b[38;5;124m'\u001b[39m\u001b[38;5;241m.\u001b[39mformat(statistics\u001b[38;5;241m.\u001b[39mmean(contributors[\u001b[38;5;124m'\u001b[39m\u001b[38;5;124mhtml_url_repository\u001b[39m\u001b[38;5;124m'\u001b[39m]\u001b[38;5;241m.\u001b[39mvalue_counts())))\n\u001b[1;32m      2\u001b[0m \u001b[38;5;28mprint\u001b[39m(\u001b[38;5;124m'\u001b[39m\u001b[38;5;124mmedian contributors: \u001b[39m\u001b[38;5;132;01m{}\u001b[39;00m\u001b[38;5;124m'\u001b[39m\u001b[38;5;241m.\u001b[39mformat(statistics\u001b[38;5;241m.\u001b[39mmedian(contributors[\u001b[38;5;124m'\u001b[39m\u001b[38;5;124mhtml_url_repository\u001b[39m\u001b[38;5;124m'\u001b[39m]\u001b[38;5;241m.\u001b[39mvalue_counts())))\n",
      "\u001b[0;31mNameError\u001b[0m: name 'contributors' is not defined"
     ]
    }
   ],
   "source": [
    "print('mean contributors: {:.2f}'.format(statistics.mean(contributors['html_url_repository'].value_counts())))\n",
    "print('median contributors: {}'.format(statistics.median(contributors['html_url_repository'].value_counts())))"
   ]
  },
  {
   "cell_type": "markdown",
   "metadata": {},
   "source": [
    "## Howfairis sum score descriptives and correlations\n",
    "\n",
    "In this section, the median and meand of the howfairis sum score is shown, as well as correlations the how fair is sum score, the amount of contributors and the amount of months since the last commit"
   ]
  },
  {
   "cell_type": "code",
   "execution_count": 35,
   "metadata": {},
   "outputs": [],
   "source": [
    "how_fair_sum_scores = []\n",
    "for index, row in how_fair_is.iterrows():\n",
    "    how_fair_is_sum = row['howfairis_repository'] + row['howfairis_license'] +row['howfairis_registry'] + row['howfairis_citation'] + row['howfairis_checklist']\n",
    "    how_fair_sum_scores.append(how_fair_is_sum)"
   ]
  },
  {
   "cell_type": "code",
   "execution_count": 36,
   "metadata": {},
   "outputs": [
    {
     "name": "stdout",
     "output_type": "stream",
     "text": [
      "mean: 1.42\n",
      "median: 1.0\n"
     ]
    },
    {
     "ename": "NameError",
     "evalue": "name 'fp_figs' is not defined",
     "output_type": "error",
     "traceback": [
      "\u001b[0;31m---------------------------------------------------------------------------\u001b[0m",
      "\u001b[0;31mNameError\u001b[0m                                 Traceback (most recent call last)",
      "Cell \u001b[0;32mIn[36], line 7\u001b[0m\n\u001b[1;32m      5\u001b[0m how_fair_is\u001b[38;5;241m.\u001b[39mboxplot(column \u001b[38;5;241m=\u001b[39m \u001b[38;5;124m'\u001b[39m\u001b[38;5;124mhow_fair_sum_scores\u001b[39m\u001b[38;5;124m'\u001b[39m)\n\u001b[1;32m      6\u001b[0m plt\u001b[38;5;241m.\u001b[39mtitle(\u001b[38;5;124m'\u001b[39m\u001b[38;5;124mboxplot of the howfairis sumscore\u001b[39m\u001b[38;5;124m'\u001b[39m)\n\u001b[0;32m----> 7\u001b[0m plt\u001b[38;5;241m.\u001b[39msavefig(Path(fp_figs, \u001b[38;5;124mf\u001b[39m\u001b[38;5;124m'\u001b[39m\u001b[38;5;124mhowfairissum_boxplot_\u001b[39m\u001b[38;5;132;01m{\u001b[39;00msubset\u001b[38;5;132;01m}\u001b[39;00m\u001b[38;5;124m.png\u001b[39m\u001b[38;5;124m'\u001b[39m), bbox_inches\u001b[38;5;241m=\u001b[39m\u001b[38;5;124m\"\u001b[39m\u001b[38;5;124mtight\u001b[39m\u001b[38;5;124m\"\u001b[39m)\n",
      "\u001b[0;31mNameError\u001b[0m: name 'fp_figs' is not defined"
     ]
    },
    {
     "data": {
      "image/png": "[encoded data removed]",
      "text/plain": [
       "<Figure size 1200x800 with 1 Axes>"
      ]
     },
     "metadata": {},
     "output_type": "display_data"
    }
   ],
   "source": [
    "how_fair_is['how_fair_sum_scores'] = how_fair_sum_scores\n",
    "print(\"mean: {:.2f}\".format(statistics.mean(how_fair_sum_scores)))\n",
    "print(\"median: {}\".format(statistics.median(how_fair_sum_scores)))\n",
    "pd.DataFrame((statistics.mean(how_fair_sum_scores), statistics.median(how_fair_sum_scores)),[\"mean\", \"median\"])\n",
    "how_fair_is.boxplot(column = 'how_fair_sum_scores')\n",
    "plt.title('boxplot of the howfairis sumscore')\n",
    "plt.savefig(Path(fp_figs, f'howfairissum_boxplot_{subset}.png'), bbox_inches=\"tight\")\n"
   ]
  },
  {
   "cell_type": "code",
   "execution_count": 37,
   "metadata": {},
   "outputs": [
    {
     "name": "stdout",
     "output_type": "stream",
     "text": [
      "0       1\n",
      "1    1162\n",
      "2     766\n",
      "3      28\n",
      "4       3\n",
      "Name: how_fair_sum_scores, dtype: int64\n"
     ]
    },
    {
     "ename": "TypeError",
     "evalue": "barplot() takes from 0 to 1 positional arguments but 2 positional arguments (and 1 keyword-only argument) were given",
     "output_type": "error",
     "traceback": [
      "\u001b[0;31m---------------------------------------------------------------------------\u001b[0m",
      "\u001b[0;31mTypeError\u001b[0m                                 Traceback (most recent call last)",
      "Cell \u001b[0;32mIn[37], line 8\u001b[0m\n\u001b[1;32m      5\u001b[0m howfairis_result \u001b[38;5;241m=\u001b[39m how_fair_is[\u001b[38;5;124m'\u001b[39m\u001b[38;5;124mhow_fair_sum_scores\u001b[39m\u001b[38;5;124m'\u001b[39m]\u001b[38;5;241m.\u001b[39mvalue_counts()\u001b[38;5;241m.\u001b[39msort_index()\n\u001b[1;32m      6\u001b[0m \u001b[38;5;28mprint\u001b[39m(howfairis_result)\n\u001b[0;32m----> 8\u001b[0m ax \u001b[38;5;241m=\u001b[39m sns\u001b[38;5;241m.\u001b[39mbarplot(howfairis_result\u001b[38;5;241m.\u001b[39mindex, howfairis_result \u001b[38;5;241m/\u001b[39m howfairis_result\u001b[38;5;241m.\u001b[39msum() \u001b[38;5;241m*\u001b[39m \u001b[38;5;241m100\u001b[39m, palette\u001b[38;5;241m=\u001b[39m\u001b[38;5;124m'\u001b[39m\u001b[38;5;124mBlues_d\u001b[39m\u001b[38;5;124m'\u001b[39m)\n\u001b[1;32m      9\u001b[0m ax\u001b[38;5;241m.\u001b[39mset_xticklabels(ax\u001b[38;5;241m.\u001b[39mget_xticklabels(),rotation \u001b[38;5;241m=\u001b[39m \u001b[38;5;241m90\u001b[39m)\n\u001b[1;32m     10\u001b[0m ax\u001b[38;5;241m.\u001b[39mset_ylabel(\u001b[38;5;124m\"\u001b[39m\u001b[38;5;124mPercentage\u001b[39m\u001b[38;5;124m\"\u001b[39m)\n",
      "\u001b[0;31mTypeError\u001b[0m: barplot() takes from 0 to 1 positional arguments but 2 positional arguments (and 1 keyword-only argument) were given"
     ]
    }
   ],
   "source": [
    "# how_fair_is['how_fair_sum_scores'].value_counts().sort_index().plot.bar(title = 'Scores howfairis')\n",
    "# plt.savefig(Path(fp_figs, f'howfairissum_histogram_{subset}.png'), bbox_inches=\"tight\")\n",
    "\n",
    "\n",
    "howfairis_result = how_fair_is['how_fair_sum_scores'].value_counts().sort_index()\n",
    "print(howfairis_result)\n",
    "\n",
    "ax = sns.barplot(howfairis_result.index, howfairis_result / howfairis_result.sum() * 100, palette='Blues_d')\n",
    "ax.set_xticklabels(ax.get_xticklabels(),rotation = 90)\n",
    "ax.set_ylabel(\"Percentage\")\n",
    "ax.set_title(\"Score in howfairis tool (in %)\")"
   ]
  },
  {
   "cell_type": "code",
   "execution_count": 38,
   "metadata": {},
   "outputs": [
    {
     "ename": "NameError",
     "evalue": "name 'repos' is not defined",
     "output_type": "error",
     "traceback": [
      "\u001b[0;31m---------------------------------------------------------------------------\u001b[0m",
      "\u001b[0;31mNameError\u001b[0m                                 Traceback (most recent call last)",
      "Cell \u001b[0;32mIn[38], line 5\u001b[0m\n\u001b[1;32m      3\u001b[0m today \u001b[38;5;241m=\u001b[39m \u001b[38;5;28mstr\u001b[39m(date\u001b[38;5;241m.\u001b[39mtoday())\n\u001b[1;32m      4\u001b[0m split_today \u001b[38;5;241m=\u001b[39m today\u001b[38;5;241m.\u001b[39msplit(\u001b[38;5;124m'\u001b[39m\u001b[38;5;124m-\u001b[39m\u001b[38;5;124m'\u001b[39m)\n\u001b[0;32m----> 5\u001b[0m \u001b[38;5;28;01mfor\u001b[39;00m date_item \u001b[38;5;129;01min\u001b[39;00m repos[\u001b[38;5;124m'\u001b[39m\u001b[38;5;124mupdated_at\u001b[39m\u001b[38;5;124m'\u001b[39m]:\n\u001b[1;32m      6\u001b[0m     split_date \u001b[38;5;241m=\u001b[39m date_item\u001b[38;5;241m.\u001b[39msplit(\u001b[38;5;124m'\u001b[39m\u001b[38;5;124m-\u001b[39m\u001b[38;5;124m'\u001b[39m)\n\u001b[1;32m      7\u001b[0m     years_ago \u001b[38;5;241m=\u001b[39m \u001b[38;5;28mint\u001b[39m(split_today[\u001b[38;5;241m0\u001b[39m]) \u001b[38;5;241m-\u001b[39m \u001b[38;5;28mint\u001b[39m(split_date[\u001b[38;5;241m0\u001b[39m])\n",
      "\u001b[0;31mNameError\u001b[0m: name 'repos' is not defined"
     ]
    }
   ],
   "source": [
    "correlation_df = pd.DataFrame()\n",
    "months_ago_most_recent_commit =[]\n",
    "today = str(date.today())\n",
    "split_today = today.split('-')\n",
    "for date_item in repos['updated_at']:\n",
    "    split_date = date_item.split('-')\n",
    "    years_ago = int(split_today[0]) - int(split_date[0])\n",
    "    months_ago = 12 * years_ago + (int(split_today[1]) - int(split_date[1]))\n",
    "    months_ago_most_recent_commit.append(months_ago)\n",
    "repos['months_ago_most_recent_commit'] = months_ago_most_recent_commit"
   ]
  },
  {
   "cell_type": "code",
   "execution_count": 39,
   "metadata": {},
   "outputs": [
    {
     "ename": "NameError",
     "evalue": "name 'contributors' is not defined",
     "output_type": "error",
     "traceback": [
      "\u001b[0;31m---------------------------------------------------------------------------\u001b[0m",
      "\u001b[0;31mNameError\u001b[0m                                 Traceback (most recent call last)",
      "Cell \u001b[0;32mIn[39], line 2\u001b[0m\n\u001b[1;32m      1\u001b[0m correlation_df[\u001b[38;5;124m'\u001b[39m\u001b[38;5;124mhow_fair_sum_scores\u001b[39m\u001b[38;5;124m'\u001b[39m] \u001b[38;5;241m=\u001b[39m how_fair_sum_scores\n\u001b[0;32m----> 2\u001b[0m correlation_df[\u001b[38;5;124m'\u001b[39m\u001b[38;5;124mcontributions\u001b[39m\u001b[38;5;124m'\u001b[39m]\u001b[38;5;241m=\u001b[39m contributors[\u001b[38;5;124m'\u001b[39m\u001b[38;5;124mcontributions\u001b[39m\u001b[38;5;124m'\u001b[39m]\n\u001b[1;32m      3\u001b[0m correlation_df[\u001b[38;5;124m'\u001b[39m\u001b[38;5;124mmonths_ago_most_recent_commit\u001b[39m\u001b[38;5;124m'\u001b[39m] \u001b[38;5;241m=\u001b[39m repos[\u001b[38;5;124m'\u001b[39m\u001b[38;5;124mmonths_ago_most_recent_commit\u001b[39m\u001b[38;5;124m'\u001b[39m]\n",
      "\u001b[0;31mNameError\u001b[0m: name 'contributors' is not defined"
     ]
    }
   ],
   "source": [
    "correlation_df['how_fair_sum_scores'] = how_fair_sum_scores\n",
    "correlation_df['contributions']= contributors['contributions']\n",
    "correlation_df['months_ago_most_recent_commit'] = repos['months_ago_most_recent_commit']"
   ]
  },
  {
   "cell_type": "code",
   "execution_count": 40,
   "metadata": {},
   "outputs": [
    {
     "data": {
      "text/html": [
       "<div>\n",
       "<style scoped>\n",
       "    .dataframe tbody tr th:only-of-type {\n",
       "        vertical-align: middle;\n",
       "    }\n",
       "\n",
       "    .dataframe tbody tr th {\n",
       "        vertical-align: top;\n",
       "    }\n",
       "\n",
       "    .dataframe thead th {\n",
       "        text-align: right;\n",
       "    }\n",
       "</style>\n",
       "<table border=\"1\" class=\"dataframe\">\n",
       "  <thead>\n",
       "    <tr style=\"text-align: right;\">\n",
       "      <th></th>\n",
       "      <th>how_fair_sum_scores</th>\n",
       "    </tr>\n",
       "  </thead>\n",
       "  <tbody>\n",
       "    <tr>\n",
       "      <th>how_fair_sum_scores</th>\n",
       "      <td>1.0</td>\n",
       "    </tr>\n",
       "  </tbody>\n",
       "</table>\n",
       "</div>"
      ],
      "text/plain": [
       "                     how_fair_sum_scores\n",
       "how_fair_sum_scores                  1.0"
      ]
     },
     "execution_count": 40,
     "metadata": {},
     "output_type": "execute_result"
    }
   ],
   "source": [
    "correlation_df.corr(method='pearson').round(decimals=2)"
   ]
  },
  {
   "cell_type": "code",
   "execution_count": 41,
   "metadata": {},
   "outputs": [],
   "source": [
    "unique_users = set(how_fair_is[\"owner\"])\n",
    "unique_users\n",
    "howfairis_max_user = list()\n",
    "howfairis_average = list()\n",
    "for user in unique_users:\n",
    "    repos_user = how_fair_is.loc[how_fair_is['owner'] == user]\n",
    "    howfairis_max_user.append(max(repos_user[\"how_fair_sum_scores\"]))\n",
    "    num_repos = len(repos_user.index)\n",
    "    average = sum(repos_user[\"how_fair_sum_scores\"])/num_repos\n",
    "    howfairis_average.append([average, num_repos])"
   ]
  },
  {
   "cell_type": "code",
   "execution_count": 42,
   "metadata": {},
   "outputs": [
    {
     "ename": "NameError",
     "evalue": "name 'fp_figs' is not defined",
     "output_type": "error",
     "traceback": [
      "\u001b[0;31m---------------------------------------------------------------------------\u001b[0m",
      "\u001b[0;31mNameError\u001b[0m                                 Traceback (most recent call last)",
      "Cell \u001b[0;32mIn[42], line 6\u001b[0m\n\u001b[1;32m      4\u001b[0m plt\u001b[38;5;241m.\u001b[39mxlabel(\u001b[38;5;124m'\u001b[39m\u001b[38;5;124mHowfairis score\u001b[39m\u001b[38;5;124m'\u001b[39m)\n\u001b[1;32m      5\u001b[0m plt\u001b[38;5;241m.\u001b[39mtitle(\u001b[38;5;124m\"\u001b[39m\u001b[38;5;124mMax howfairis score per user aggregated, \u001b[39m\u001b[38;5;124m\"\u001b[39m \u001b[38;5;241m+\u001b[39m \u001b[38;5;28mstr\u001b[39m(\u001b[38;5;28mlen\u001b[39m(unique_users)) \u001b[38;5;241m+\u001b[39m \u001b[38;5;124m\"\u001b[39m\u001b[38;5;124m users\u001b[39m\u001b[38;5;124m\"\u001b[39m)\n\u001b[0;32m----> 6\u001b[0m plt\u001b[38;5;241m.\u001b[39msavefig(Path(fp_figs, \u001b[38;5;124mf\u001b[39m\u001b[38;5;124m'\u001b[39m\u001b[38;5;124mhowfairis_stacked_max\u001b[39m\u001b[38;5;132;01m{\u001b[39;00msubset\u001b[38;5;132;01m}\u001b[39;00m\u001b[38;5;124m.png\u001b[39m\u001b[38;5;124m'\u001b[39m), bbox_inches\u001b[38;5;241m=\u001b[39m\u001b[38;5;124m\"\u001b[39m\u001b[38;5;124mtight\u001b[39m\u001b[38;5;124m\"\u001b[39m)\n",
      "\u001b[0;31mNameError\u001b[0m: name 'fp_figs' is not defined"
     ]
    }
   ],
   "source": [
    "plt.hist(howfairis_max_user, bins = range(1,7))\n",
    "plt.xticks(range(1,6))\n",
    "plt.ylabel('Count')\n",
    "plt.xlabel('Howfairis score')\n",
    "plt.title(\"Max howfairis score per user aggregated, \" + str(len(unique_users)) + \" users\")\n",
    "plt.savefig(Path(fp_figs, f'howfairis_stacked_max{subset}.png'), bbox_inches=\"tight\")"
   ]
  },
  {
   "cell_type": "code",
   "execution_count": 43,
   "metadata": {},
   "outputs": [
    {
     "ename": "NameError",
     "evalue": "name 'fp_figs' is not defined",
     "output_type": "error",
     "traceback": [
      "\u001b[0;31m---------------------------------------------------------------------------\u001b[0m",
      "\u001b[0;31mNameError\u001b[0m                                 Traceback (most recent call last)",
      "Cell \u001b[0;32mIn[43], line 5\u001b[0m\n\u001b[1;32m      3\u001b[0m plt\u001b[38;5;241m.\u001b[39mxlabel(\u001b[38;5;124m'\u001b[39m\u001b[38;5;124mAverage howfairis score\u001b[39m\u001b[38;5;124m'\u001b[39m)\n\u001b[1;32m      4\u001b[0m plt\u001b[38;5;241m.\u001b[39mtitle(\u001b[38;5;124m\"\u001b[39m\u001b[38;5;124mAverage howfairis score per user, \u001b[39m\u001b[38;5;124m\"\u001b[39m \u001b[38;5;241m+\u001b[39m \u001b[38;5;28mstr\u001b[39m(\u001b[38;5;28mlen\u001b[39m(unique_users)) \u001b[38;5;241m+\u001b[39m \u001b[38;5;124m\"\u001b[39m\u001b[38;5;124m users\u001b[39m\u001b[38;5;124m\"\u001b[39m)\n\u001b[0;32m----> 5\u001b[0m plt\u001b[38;5;241m.\u001b[39msavefig(Path(fp_figs, \u001b[38;5;124mf\u001b[39m\u001b[38;5;124m'\u001b[39m\u001b[38;5;124mhowfairis_scatter_repos_avg\u001b[39m\u001b[38;5;132;01m{\u001b[39;00msubset\u001b[38;5;132;01m}\u001b[39;00m\u001b[38;5;124m.png\u001b[39m\u001b[38;5;124m'\u001b[39m), bbox_inches\u001b[38;5;241m=\u001b[39m\u001b[38;5;124m\"\u001b[39m\u001b[38;5;124mtight\u001b[39m\u001b[38;5;124m\"\u001b[39m)\n",
      "\u001b[0;31mNameError\u001b[0m: name 'fp_figs' is not defined"
     ]
    }
   ],
   "source": [
    "plt.scatter(*zip(*howfairis_average))\n",
    "plt.ylabel('Number of repositories')\n",
    "plt.xlabel('Average howfairis score')\n",
    "plt.title(\"Average howfairis score per user, \" + str(len(unique_users)) + \" users\")\n",
    "plt.savefig(Path(fp_figs, f'howfairis_scatter_repos_avg{subset}.png'), bbox_inches=\"tight\")"
   ]
  },
  {
   "cell_type": "markdown",
   "metadata": {},
   "source": [
    "## Binary correlation plot between howfairis variables\n",
    "\n",
    "A correlation table that shows the correlation between the howfairis measures."
   ]
  },
  {
   "cell_type": "code",
   "execution_count": 44,
   "metadata": {},
   "outputs": [],
   "source": [
    "correlation_how_fair_is = pd.DataFrame()\n",
    "\n",
    "#correlation_how_fair_is['howfairis_repository'] = how_fair_is['howfairis_repository']\n",
    "correlation_how_fair_is['howfairis_license'] = how_fair_is['howfairis_license']\n",
    "correlation_how_fair_is['howfairis_registry'] = how_fair_is['howfairis_registry']\n",
    "correlation_how_fair_is['howfairis_citation'] = how_fair_is['howfairis_citation']\n",
    "correlation_how_fair_is['howfairis_checklist'] = how_fair_is['howfairis_checklist']\n",
    "\n"
   ]
  },
  {
   "cell_type": "code",
   "execution_count": 45,
   "metadata": {},
   "outputs": [
    {
     "data": {
      "text/html": [
       "<div>\n",
       "<style scoped>\n",
       "    .dataframe tbody tr th:only-of-type {\n",
       "        vertical-align: middle;\n",
       "    }\n",
       "\n",
       "    .dataframe tbody tr th {\n",
       "        vertical-align: top;\n",
       "    }\n",
       "\n",
       "    .dataframe thead th {\n",
       "        text-align: right;\n",
       "    }\n",
       "</style>\n",
       "<table border=\"1\" class=\"dataframe\">\n",
       "  <thead>\n",
       "    <tr style=\"text-align: right;\">\n",
       "      <th></th>\n",
       "      <th>howfairis_license</th>\n",
       "      <th>howfairis_registry</th>\n",
       "      <th>howfairis_citation</th>\n",
       "      <th>howfairis_checklist</th>\n",
       "    </tr>\n",
       "  </thead>\n",
       "  <tbody>\n",
       "    <tr>\n",
       "      <th>howfairis_license</th>\n",
       "      <td>1.00</td>\n",
       "      <td>0.09</td>\n",
       "      <td>0.11</td>\n",
       "      <td>NaN</td>\n",
       "    </tr>\n",
       "    <tr>\n",
       "      <th>howfairis_registry</th>\n",
       "      <td>0.09</td>\n",
       "      <td>1.00</td>\n",
       "      <td>0.15</td>\n",
       "      <td>NaN</td>\n",
       "    </tr>\n",
       "    <tr>\n",
       "      <th>howfairis_citation</th>\n",
       "      <td>0.11</td>\n",
       "      <td>0.15</td>\n",
       "      <td>1.00</td>\n",
       "      <td>NaN</td>\n",
       "    </tr>\n",
       "    <tr>\n",
       "      <th>howfairis_checklist</th>\n",
       "      <td>NaN</td>\n",
       "      <td>NaN</td>\n",
       "      <td>NaN</td>\n",
       "      <td>NaN</td>\n",
       "    </tr>\n",
       "  </tbody>\n",
       "</table>\n",
       "</div>"
      ],
      "text/plain": [
       "                     howfairis_license  howfairis_registry  \\\n",
       "howfairis_license                 1.00                0.09   \n",
       "howfairis_registry                0.09                1.00   \n",
       "howfairis_citation                0.11                0.15   \n",
       "howfairis_checklist                NaN                 NaN   \n",
       "\n",
       "                     howfairis_citation  howfairis_checklist  \n",
       "howfairis_license                  0.11                  NaN  \n",
       "howfairis_registry                 0.15                  NaN  \n",
       "howfairis_citation                 1.00                  NaN  \n",
       "howfairis_checklist                 NaN                  NaN  "
      ]
     },
     "execution_count": 45,
     "metadata": {},
     "output_type": "execute_result"
    }
   ],
   "source": [
    "correlation_how_fair_is.corr(method='pearson').round(decimals=2) #howfairis_repository is all true, so has no variance"
   ]
  },
  {
   "cell_type": "markdown",
   "metadata": {},
   "source": [
    "## Programming language and Howfairis\n",
    "\n",
    "Different programming languages need different licences. For some languages (e.g. python), these are more complex. How does this influence the HowFairis score?"
   ]
  },
  {
   "cell_type": "code",
   "execution_count": 46,
   "metadata": {},
   "outputs": [
    {
     "ename": "NameError",
     "evalue": "name 'languages' is not defined",
     "output_type": "error",
     "traceback": [
      "\u001b[0;31m---------------------------------------------------------------------------\u001b[0m",
      "\u001b[0;31mNameError\u001b[0m                                 Traceback (most recent call last)",
      "Cell \u001b[0;32mIn[46], line 4\u001b[0m\n\u001b[1;32m      2\u001b[0m language_how_fair_is_df \u001b[38;5;241m=\u001b[39m []\n\u001b[1;32m      3\u001b[0m \u001b[38;5;66;03m#get a list with the how-fair-is scores added to the language dataset\u001b[39;00m\n\u001b[0;32m----> 4\u001b[0m \u001b[38;5;28;01mfor\u001b[39;00m index,row \u001b[38;5;129;01min\u001b[39;00m languages\u001b[38;5;241m.\u001b[39miterrows():\n\u001b[1;32m      5\u001b[0m     \u001b[38;5;28;01mif\u001b[39;00m how_fair_is[\u001b[38;5;124m'\u001b[39m\u001b[38;5;124mhtml_url\u001b[39m\u001b[38;5;124m'\u001b[39m][index_how_fair_is] \u001b[38;5;241m!=\u001b[39m languages[\u001b[38;5;124m'\u001b[39m\u001b[38;5;124mhtml_url_repository\u001b[39m\u001b[38;5;124m'\u001b[39m][index]:\n\u001b[1;32m      6\u001b[0m         index_how_fair_is \u001b[38;5;241m+\u001b[39m\u001b[38;5;241m=\u001b[39m \u001b[38;5;241m1\u001b[39m \n",
      "\u001b[0;31mNameError\u001b[0m: name 'languages' is not defined"
     ]
    }
   ],
   "source": [
    "index_how_fair_is = 0\n",
    "language_how_fair_is_df = []\n",
    "#get a list with the how-fair-is scores added to the language dataset\n",
    "for index,row in languages.iterrows():\n",
    "    if how_fair_is['html_url'][index_how_fair_is] != languages['html_url_repository'][index]:\n",
    "        index_how_fair_is += 1 \n",
    "    sum_score = how_fair_is['how_fair_sum_scores'][index_how_fair_is]\n",
    "    language_how_fair_is_df.append(sum_score)\n",
    "regression_data_how_fair_is_language = pd.DataFrame()\n",
    "language_data_dummies = pd.get_dummies(languages['language'])  #one hot-encoding for language dataset\n",
    "regression_data_how_fair_is_language['how_fair_is_sum'] = language_how_fair_is_df\n",
    "languages['how_fair_sum_scores'] = regression_data_how_fair_is_language #add scores to language dataset"
   ]
  },
  {
   "cell_type": "code",
   "execution_count": 47,
   "metadata": {},
   "outputs": [
    {
     "ename": "NameError",
     "evalue": "name 'languages' is not defined",
     "output_type": "error",
     "traceback": [
      "\u001b[0;31m---------------------------------------------------------------------------\u001b[0m",
      "\u001b[0;31mNameError\u001b[0m                                 Traceback (most recent call last)",
      "Cell \u001b[0;32mIn[47], line 1\u001b[0m\n\u001b[0;32m----> 1\u001b[0m train_size \u001b[38;5;241m=\u001b[39m \u001b[38;5;28mint\u001b[39m(\u001b[38;5;28mlen\u001b[39m(languages) \u001b[38;5;241m*\u001b[39m \u001b[38;5;241m0.8\u001b[39m) \u001b[38;5;66;03m#training size is 2227, testing size is  557\u001b[39;00m\n\u001b[1;32m      2\u001b[0m regression_how_fair_is_language_train_X \u001b[38;5;241m=\u001b[39m language_data_dummies[:train_size]\n\u001b[1;32m      3\u001b[0m regression_how_fair_is_language_train_y \u001b[38;5;241m=\u001b[39m regression_data_how_fair_is_language[\u001b[38;5;124m'\u001b[39m\u001b[38;5;124mhow_fair_is_sum\u001b[39m\u001b[38;5;124m'\u001b[39m][:train_size]\n",
      "\u001b[0;31mNameError\u001b[0m: name 'languages' is not defined"
     ]
    }
   ],
   "source": [
    "train_size = int(len(languages) * 0.8) #training size is 2227, testing size is  557\n",
    "regression_how_fair_is_language_train_X = language_data_dummies[:train_size]\n",
    "regression_how_fair_is_language_train_y = regression_data_how_fair_is_language['how_fair_is_sum'][:train_size]\n",
    "regression_how_fair_is_language_test_X = language_data_dummies[train_size:]\n",
    "regression_how_fair_is_language_test_y = regression_data_how_fair_is_language['how_fair_is_sum'][train_size:]"
   ]
  },
  {
   "cell_type": "code",
   "execution_count": 48,
   "metadata": {},
   "outputs": [
    {
     "ename": "NameError",
     "evalue": "name 'regression_how_fair_is_language_train_X' is not defined",
     "output_type": "error",
     "traceback": [
      "\u001b[0;31m---------------------------------------------------------------------------\u001b[0m",
      "\u001b[0;31mNameError\u001b[0m                                 Traceback (most recent call last)",
      "Cell \u001b[0;32mIn[48], line 3\u001b[0m\n\u001b[1;32m      1\u001b[0m \u001b[38;5;66;03m#train regression\u001b[39;00m\n\u001b[1;32m      2\u001b[0m regression_language_how_fair_is \u001b[38;5;241m=\u001b[39m LinearRegression()\n\u001b[0;32m----> 3\u001b[0m regression_language_how_fair_is\u001b[38;5;241m.\u001b[39mfit(regression_how_fair_is_language_train_X, regression_how_fair_is_language_train_y)\n\u001b[1;32m      5\u001b[0m \u001b[38;5;66;03m# Make predictions using the testing set\u001b[39;00m\n\u001b[1;32m      6\u001b[0m language_how_fair_is_y_pred \u001b[38;5;241m=\u001b[39m regression_language_how_fair_is\u001b[38;5;241m.\u001b[39mpredict(regression_how_fair_is_language_test_X)\n",
      "\u001b[0;31mNameError\u001b[0m: name 'regression_how_fair_is_language_train_X' is not defined"
     ]
    }
   ],
   "source": [
    "#train regression\n",
    "regression_language_how_fair_is = LinearRegression()\n",
    "regression_language_how_fair_is.fit(regression_how_fair_is_language_train_X, regression_how_fair_is_language_train_y)\n",
    "\n",
    "# Make predictions using the testing set\n",
    "language_how_fair_is_y_pred = regression_language_how_fair_is.predict(regression_how_fair_is_language_test_X)\n",
    "\n",
    "# The coefficients\n",
    "#print('Coefficients: \\n', regression_language_how_fair_is.coef_)\n",
    "\n",
    "# The mean squared error\n",
    "print('Mean squared error: %.2f'\n",
    "      % mean_squared_error(regression_how_fair_is_language_test_y, language_how_fair_is_y_pred))\n",
    "# The coefficient of determination: 1 is perfect prediction\n",
    "print('Coefficient of determination: %.2f'\n",
    "      % r2_score(regression_how_fair_is_language_test_y, language_how_fair_is_y_pred))\n"
   ]
  },
  {
   "cell_type": "code",
   "execution_count": 49,
   "metadata": {},
   "outputs": [
    {
     "ename": "NameError",
     "evalue": "name 'language_data_dummies' is not defined",
     "output_type": "error",
     "traceback": [
      "\u001b[0;31m---------------------------------------------------------------------------\u001b[0m",
      "\u001b[0;31mNameError\u001b[0m                                 Traceback (most recent call last)",
      "Cell \u001b[0;32mIn[49], line 1\u001b[0m\n\u001b[0;32m----> 1\u001b[0m language_subset \u001b[38;5;241m=\u001b[39m language_data_dummies[[\u001b[38;5;124m'\u001b[39m\u001b[38;5;124mPython\u001b[39m\u001b[38;5;124m'\u001b[39m, \u001b[38;5;124m'\u001b[39m\u001b[38;5;124mShell\u001b[39m\u001b[38;5;124m'\u001b[39m, \u001b[38;5;124m'\u001b[39m\u001b[38;5;124mR\u001b[39m\u001b[38;5;124m'\u001b[39m, \u001b[38;5;124m'\u001b[39m\u001b[38;5;124mJavaScript\u001b[39m\u001b[38;5;124m'\u001b[39m, \u001b[38;5;124m'\u001b[39m\u001b[38;5;124mHTML\u001b[39m\u001b[38;5;124m'\u001b[39m]]\n",
      "\u001b[0;31mNameError\u001b[0m: name 'language_data_dummies' is not defined"
     ]
    }
   ],
   "source": [
    "language_subset = language_data_dummies[['Python', 'Shell', 'R', 'JavaScript', 'HTML']] #top 5 languages\n"
   ]
  },
  {
   "cell_type": "code",
   "execution_count": 50,
   "metadata": {},
   "outputs": [
    {
     "ename": "NameError",
     "evalue": "name 'language_subset' is not defined",
     "output_type": "error",
     "traceback": [
      "\u001b[0;31m---------------------------------------------------------------------------\u001b[0m",
      "\u001b[0;31mNameError\u001b[0m                                 Traceback (most recent call last)",
      "Cell \u001b[0;32mIn[50], line 1\u001b[0m\n\u001b[0;32m----> 1\u001b[0m train_size \u001b[38;5;241m=\u001b[39m \u001b[38;5;28mint\u001b[39m(\u001b[38;5;28mlen\u001b[39m(language_subset) \u001b[38;5;241m*\u001b[39m \u001b[38;5;241m0.8\u001b[39m)\n\u001b[1;32m      2\u001b[0m regression_how_fair_is_language_train_X \u001b[38;5;241m=\u001b[39m language_subset[:train_size]\n\u001b[1;32m      3\u001b[0m regression_how_fair_is_language_train_y \u001b[38;5;241m=\u001b[39m regression_data_how_fair_is_language[\u001b[38;5;124m'\u001b[39m\u001b[38;5;124mhow_fair_is_sum\u001b[39m\u001b[38;5;124m'\u001b[39m][:train_size]\n",
      "\u001b[0;31mNameError\u001b[0m: name 'language_subset' is not defined"
     ]
    }
   ],
   "source": [
    "train_size = int(len(language_subset) * 0.8)\n",
    "regression_how_fair_is_language_train_X = language_subset[:train_size]\n",
    "regression_how_fair_is_language_train_y = regression_data_how_fair_is_language['how_fair_is_sum'][:train_size]\n",
    "regression_how_fair_is_language_test_X = language_subset[train_size:]\n",
    "regression_how_fair_is_language_test_y = regression_data_how_fair_is_language['how_fair_is_sum'][train_size:]"
   ]
  },
  {
   "cell_type": "code",
   "execution_count": 51,
   "metadata": {},
   "outputs": [
    {
     "ename": "NameError",
     "evalue": "name 'regression_how_fair_is_language_train_X' is not defined",
     "output_type": "error",
     "traceback": [
      "\u001b[0;31m---------------------------------------------------------------------------\u001b[0m",
      "\u001b[0;31mNameError\u001b[0m                                 Traceback (most recent call last)",
      "Cell \u001b[0;32mIn[51], line 3\u001b[0m\n\u001b[1;32m      1\u001b[0m \u001b[38;5;66;03m#train regression\u001b[39;00m\n\u001b[1;32m      2\u001b[0m regression_language_how_fair_is \u001b[38;5;241m=\u001b[39m LinearRegression()\n\u001b[0;32m----> 3\u001b[0m regression_language_how_fair_is\u001b[38;5;241m.\u001b[39mfit(regression_how_fair_is_language_train_X, regression_how_fair_is_language_train_y)\n\u001b[1;32m      5\u001b[0m \u001b[38;5;66;03m# Make predictions using the testing set\u001b[39;00m\n\u001b[1;32m      6\u001b[0m language_how_fair_is_y_pred \u001b[38;5;241m=\u001b[39m regression_language_how_fair_is\u001b[38;5;241m.\u001b[39mpredict(regression_how_fair_is_language_test_X)\n",
      "\u001b[0;31mNameError\u001b[0m: name 'regression_how_fair_is_language_train_X' is not defined"
     ]
    }
   ],
   "source": [
    "#train regression\n",
    "regression_language_how_fair_is = LinearRegression()\n",
    "regression_language_how_fair_is.fit(regression_how_fair_is_language_train_X, regression_how_fair_is_language_train_y)\n",
    "\n",
    "# Make predictions using the testing set\n",
    "language_how_fair_is_y_pred = regression_language_how_fair_is.predict(regression_how_fair_is_language_test_X)\n",
    "\n",
    "# The coefficients\n",
    "print('Coefficients: \\n', regression_language_how_fair_is.coef_)\n",
    "\n",
    "# The mean squared error\n",
    "print('Mean squared error: %.2f'\n",
    "      % mean_squared_error(regression_how_fair_is_language_test_y, language_how_fair_is_y_pred))\n",
    "# The coefficient of determination: 1 is perfect prediction\n",
    "print('Coefficient of determination: %.2f'\n",
    "      % r2_score(regression_how_fair_is_language_test_y, language_how_fair_is_y_pred))\n"
   ]
  },
  {
   "cell_type": "markdown",
   "metadata": {},
   "source": [
    "A simple regression for predicting the how fair is score from  all or a subset of languages does not seem to yield any results "
   ]
  },
  {
   "cell_type": "markdown",
   "metadata": {},
   "source": [
    "## Examples of high howfairis scores \n",
    "\n",
    "In this section, some links to the pages that have a high howfairis score are shown. "
   ]
  },
  {
   "cell_type": "code",
   "execution_count": 52,
   "metadata": {},
   "outputs": [
    {
     "data": {
      "text/html": [
       "<div>\n",
       "<style scoped>\n",
       "    .dataframe tbody tr th:only-of-type {\n",
       "        vertical-align: middle;\n",
       "    }\n",
       "\n",
       "    .dataframe tbody tr th {\n",
       "        vertical-align: top;\n",
       "    }\n",
       "\n",
       "    .dataframe thead th {\n",
       "        text-align: right;\n",
       "    }\n",
       "</style>\n",
       "<table border=\"1\" class=\"dataframe\">\n",
       "  <thead>\n",
       "    <tr style=\"text-align: right;\">\n",
       "      <th></th>\n",
       "      <th>html_url</th>\n",
       "      <th>how_fair_sum_scores</th>\n",
       "    </tr>\n",
       "  </thead>\n",
       "  <tbody>\n",
       "    <tr>\n",
       "      <th>1330</th>\n",
       "      <td>https://github.com/mmrabe/hypr</td>\n",
       "      <td>4</td>\n",
       "    </tr>\n",
       "    <tr>\n",
       "      <th>1419</th>\n",
       "      <td>https://github.com/PIK-LPJmL/lpjmlkit</td>\n",
       "      <td>4</td>\n",
       "    </tr>\n",
       "    <tr>\n",
       "      <th>1733</th>\n",
       "      <td>https://github.com/University-of-Potsdam-MM/cf...</td>\n",
       "      <td>4</td>\n",
       "    </tr>\n",
       "  </tbody>\n",
       "</table>\n",
       "</div>"
      ],
      "text/plain": [
       "                                               html_url  how_fair_sum_scores\n",
       "1330                     https://github.com/mmrabe/hypr                    4\n",
       "1419              https://github.com/PIK-LPJmL/lpjmlkit                    4\n",
       "1733  https://github.com/University-of-Potsdam-MM/cf...                    4"
      ]
     },
     "execution_count": 52,
     "metadata": {},
     "output_type": "execute_result"
    }
   ],
   "source": [
    "how_fair_is_high_scores = how_fair_is[how_fair_is['how_fair_sum_scores'] > 3].sort_values('how_fair_sum_scores', ascending=False)\n",
    "\n",
    "how_fair_is_high_scores[['html_url', 'how_fair_sum_scores']]"
   ]
  },
  {
   "cell_type": "markdown",
   "metadata": {},
   "source": [
    "## Re-use of other projects and articles\n",
    "\n",
    "Are there competitors?\n",
    "How do they relate to each other?"
   ]
  },
  {
   "cell_type": "markdown",
   "metadata": {},
   "source": [
    "## Installation statistics"
   ]
  },
  {
   "cell_type": "code",
   "execution_count": 53,
   "metadata": {},
   "outputs": [
    {
     "ename": "NameError",
     "evalue": "name 'installations' is not defined",
     "output_type": "error",
     "traceback": [
      "\u001b[0;31m---------------------------------------------------------------------------\u001b[0m",
      "\u001b[0;31mNameError\u001b[0m                                 Traceback (most recent call last)",
      "Cell \u001b[0;32mIn[53], line 1\u001b[0m\n\u001b[0;32m----> 1\u001b[0m installations[installations[\u001b[38;5;124m\"\u001b[39m\u001b[38;5;124mrepository_name\u001b[39m\u001b[38;5;124m\"\u001b[39m] \u001b[38;5;241m!=\u001b[39m \u001b[38;5;124m\"\u001b[39m\u001b[38;5;124mpcalg\u001b[39m\u001b[38;5;124m\"\u001b[39m]\u001b[38;5;241m.\u001b[39msort_values(\u001b[38;5;124m\"\u001b[39m\u001b[38;5;124mlast_month\u001b[39m\u001b[38;5;124m\"\u001b[39m, ascending\u001b[38;5;241m=\u001b[39m\u001b[38;5;28;01mFalse\u001b[39;00m)\u001b[38;5;241m.\u001b[39mreset_index(drop\u001b[38;5;241m=\u001b[39m\u001b[38;5;28;01mTrue\u001b[39;00m)\u001b[38;5;241m.\u001b[39mdrop(\u001b[38;5;124m\"\u001b[39m\u001b[38;5;124mdate\u001b[39m\u001b[38;5;124m\"\u001b[39m, axis\u001b[38;5;241m=\u001b[39m\u001b[38;5;241m1\u001b[39m)\n",
      "\u001b[0;31mNameError\u001b[0m: name 'installations' is not defined"
     ]
    }
   ],
   "source": [
    "installations[installations[\"repository_name\"] != \"pcalg\"].sort_values(\"last_month\", ascending=False).reset_index(drop=True).drop(\"date\", axis=1)"
   ]
  },
  {
   "cell_type": "code",
   "execution_count": null,
   "metadata": {},
   "outputs": [],
   "source": []
  },
  {
   "cell_type": "code",
   "execution_count": null,
   "metadata": {},
   "outputs": [],
   "source": []
  }
 ],
 "metadata": {
  "kernelspec": {
   "display_name": "Python 3 (ipykernel)",
   "language": "python",
   "name": "python3"
  },
  "language_info": {
   "codemirror_mode": {
    "name": "ipython",
    "version": 3
   },
   "file_extension": ".py",
   "mimetype": "text/x-python",
   "name": "python",
   "nbconvert_exporter": "python",
   "pygments_lexer": "ipython3",
   "version": "3.11.4"
  }
 },
 "nbformat": 4,
 "nbformat_minor": 2
}
